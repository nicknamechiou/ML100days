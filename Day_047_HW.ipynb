{
 "cells": [
  {
   "cell_type": "markdown",
   "metadata": {},
   "source": [
    "### 作業\n",
    "請使用不同的資料集，並使用 hyper-parameter search 的方式，看能不能找出最佳的超參數組合"
   ]
  },
  {
   "cell_type": "code",
   "execution_count": 1,
   "metadata": {},
   "outputs": [],
   "source": [
    "from sklearn import datasets, metrics\n",
    "from sklearn.model_selection import train_test_split, KFold, GridSearchCV\n",
    "## 梯度提升樹算法 https://scikit-learn.org/stable/modules/generated/sklearn.ensemble.GradientBoostingRegressor.html\n",
    "## 梯度提升用法 補充資料: https://sklearn.apachecn.org/docs/master/12.html \n",
    "from sklearn.ensemble import GradientBoostingRegressor"
   ]
  },
  {
   "cell_type": "code",
   "execution_count": 2,
   "metadata": {},
   "outputs": [],
   "source": [
    "wine = datasets.load_wine()"
   ]
  },
  {
   "cell_type": "code",
   "execution_count": 3,
   "metadata": {},
   "outputs": [
    {
     "name": "stdout",
     "output_type": "stream",
     "text": [
      "[ 4.85157320e-03 -6.11544988e-02  1.03579309e+00  2.47034728e-03\n",
      "  9.77929980e-01  2.56964822e-03  1.00538514e+00  2.00069171e+00\n",
      "  8.76379899e-01  2.12887512e-01  2.98206257e-02  1.01516469e+00\n",
      " -8.90582704e-02  1.90344021e+00 -1.29149562e-03  1.00381041e+00\n",
      "  1.00351325e+00  1.01148092e+00 -3.52097118e-04  1.00030087e+00\n",
      " -1.03837343e-03  9.35022660e-01  1.00785831e+00  2.00190476e+00\n",
      "  2.00083148e+00  2.00144442e+00  1.00236765e+00  8.02429601e-01\n",
      "  9.99729945e-01  6.91969307e-03 -1.31029288e-03  1.00630242e+00\n",
      "  1.99778275e+00  4.03546776e-03 -8.87717408e-04  4.90931604e-03\n",
      "  1.85531342e+00  1.94035978e+00  8.56024167e-01  1.96322471e+00\n",
      "  5.40221304e-04  1.00313198e+00  1.00673704e+00  1.11478224e+00\n",
      "  1.35440638e+00]\n",
      "0.14351527250337612\n"
     ]
    }
   ],
   "source": [
    "# 切分訓練集/測試集\n",
    "x_train, x_test, y_train, y_test = train_test_split(wine.data, wine.target, test_size=0.25, random_state=42)\n",
    "\n",
    "# 建立模型\n",
    "clf = GradientBoostingRegressor(random_state=7)\n",
    "\n",
    "# 先看看使用預設參數得到的結果，約為 8.379 的 MSE\n",
    "clf.fit(x_train, y_train)\n",
    "y_pred = clf.predict(x_test)\n",
    "print(y_pred)\n",
    "print(metrics.mean_squared_error(y_test, y_pred))"
   ]
  },
  {
   "cell_type": "code",
   "execution_count": 4,
   "metadata": {},
   "outputs": [
    {
     "name": "stdout",
     "output_type": "stream",
     "text": [
      "Fitting 5 folds for each of 25 candidates, totalling 125 fits\n"
     ]
    }
   ],
   "source": [
    "# 設定要訓練的超參數組合\n",
    "n_estimators = [100, 200, 300, 400, 500]\n",
    "max_depth = [1, 3, 5, 7, 9]\n",
    "param_grid = dict(n_estimators=n_estimators, max_depth=max_depth)\n",
    "\n",
    "## 建立搜尋物件，放入模型及參數組合字典 (n_jobs=-1 會使用全部 cpu 平行運算)\n",
    "grid_search = GridSearchCV(clf, param_grid, scoring=\"neg_mean_squared_error\", n_jobs=-1, verbose=1)\n",
    "# 開始搜尋最佳參數\n",
    "grid_result = grid_search.fit(x_train, y_train)\n",
    "# 預設會跑 5-fold cross-validadtion，總共 9 種參數組合，總共要 train 27 次模型"
   ]
  },
  {
   "cell_type": "code",
   "execution_count": 5,
   "metadata": {},
   "outputs": [
    {
     "name": "stdout",
     "output_type": "stream",
     "text": [
      "Best Accuracy: -0.063167 using {'max_depth': 7, 'n_estimators': 100}\n"
     ]
    }
   ],
   "source": [
    "# 印出最佳結果與最佳參數\n",
    "print(\"Best Accuracy: %f using %s\" % (grid_result.best_score_, grid_result.best_params_))"
   ]
  },
  {
   "cell_type": "code",
   "execution_count": 6,
   "metadata": {},
   "outputs": [
    {
     "data": {
      "text/plain": [
       "array([2.49637208e-05, 2.49637208e-05, 8.45850418e-01, 2.49637208e-05,\n",
       "       9.99998402e-01, 2.49637208e-05, 9.99998402e-01, 1.99997184e+00,\n",
       "       9.99998402e-01, 2.49637208e-05, 2.49637208e-05, 9.99998402e-01,\n",
       "       2.49637208e-05, 1.99997184e+00, 2.49637208e-05, 9.99998402e-01,\n",
       "       9.99998402e-01, 9.99998402e-01, 2.49637208e-05, 9.99998402e-01,\n",
       "       2.49637208e-05, 9.99998402e-01, 9.99998402e-01, 1.99997184e+00,\n",
       "       1.99997184e+00, 1.99997184e+00, 9.99998402e-01, 8.56404850e-01,\n",
       "       9.99998402e-01, 2.49637208e-05, 2.49637208e-05, 9.99998402e-01,\n",
       "       1.99997184e+00, 2.49637208e-05, 2.49637208e-05, 2.49637208e-05,\n",
       "       1.99997184e+00, 1.99997184e+00, 8.56404850e-01, 1.99997184e+00,\n",
       "       2.49637208e-05, 9.99998402e-01, 9.99998402e-01, 1.44845050e+00,\n",
       "       1.44829956e+00])"
      ]
     },
     "execution_count": 6,
     "metadata": {},
     "output_type": "execute_result"
    }
   ],
   "source": [
    "# 使用最佳參數重新建立模型\n",
    "clf_bestparam = GradientBoostingRegressor(max_depth=grid_result.best_params_['max_depth'],\n",
    "                                           n_estimators=grid_result.best_params_['n_estimators'])\n",
    "\n",
    "# 訓練模型\n",
    "clf_bestparam.fit(x_train, y_train)\n",
    "\n",
    "# 預測測試集\n",
    "y_pred = clf_bestparam.predict(x_test)\n",
    "y_pred"
   ]
  },
  {
   "cell_type": "code",
   "execution_count": 7,
   "metadata": {},
   "outputs": [
    {
     "name": "stdout",
     "output_type": "stream",
     "text": [
      "0.17508063676025107\n"
     ]
    }
   ],
   "source": [
    "print(metrics.mean_squared_error(y_test, y_pred))"
   ]
  },
  {
   "cell_type": "code",
   "execution_count": null,
   "metadata": {},
   "outputs": [],
   "source": []
  }
 ],
 "metadata": {
  "kernelspec": {
   "display_name": "Python 3 (ipykernel)",
   "language": "python",
   "name": "python3"
  },
  "language_info": {
   "codemirror_mode": {
    "name": "ipython",
    "version": 3
   },
   "file_extension": ".py",
   "mimetype": "text/x-python",
   "name": "python",
   "nbconvert_exporter": "python",
   "pygments_lexer": "ipython3",
   "version": "3.9.7"
  }
 },
 "nbformat": 4,
 "nbformat_minor": 4
}
