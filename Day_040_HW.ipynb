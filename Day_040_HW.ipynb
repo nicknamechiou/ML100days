{
 "cells": [
  {
   "cell_type": "markdown",
   "metadata": {},
   "source": [
    "## [作業重點]\n",
    "使用 Sklearn 中的 Lasso, Ridge 模型，來訓練各種資料集，務必了解送進去模型訓練的**資料型態**為何，也請了解模型中各項參數的意義。\n",
    "\n",
    "機器學習的模型非常多種，但要訓練的資料多半有固定的格式，確保你了解訓練資料的格式為何，這樣在應用新模型時，就能夠最快的上手開始訓練！"
   ]
  },
  {
   "cell_type": "markdown",
   "metadata": {},
   "source": [
    "## 練習時間\n",
    "試著使用 sklearn datasets 的其他資料集 (boston, ...)，來訓練自己的線性迴歸模型，並加上適當的正則化來觀察訓練情形。"
   ]
  },
  {
   "cell_type": "code",
   "execution_count": 1,
   "metadata": {},
   "outputs": [],
   "source": [
    "import numpy as np\n",
    "import pandas as pd \n",
    "from sklearn.linear_model import Lasso, Ridge, LinearRegression\n",
    "from sklearn import datasets\n",
    "from sklearn.model_selection import train_test_split\n",
    "from sklearn.metrics import mean_squared_error, r2_score\n",
    "import warnings\n",
    "warnings.filterwarnings('ignore')"
   ]
  },
  {
   "cell_type": "code",
   "execution_count": 2,
   "metadata": {},
   "outputs": [],
   "source": [
    "wine = datasets.load_wine()"
   ]
  },
  {
   "cell_type": "code",
   "execution_count": 3,
   "metadata": {},
   "outputs": [
    {
     "name": "stdout",
     "output_type": "stream",
     "text": [
      "[[-0.09939114  0.01200765 -0.19121346  0.04636457  0.00125323  0.13434303\n",
      "  -0.31250603 -0.10295184  0.04700118  0.07515108 -0.12368934 -0.30545548\n",
      "  -0.00081716]]\n",
      "Mean squared error: 0.07\n"
     ]
    }
   ],
   "source": [
    "df_wine = pd.DataFrame(wine.data, columns=wine.feature_names)\n",
    "target = pd.DataFrame(wine.target, columns=[\"Target\"])\n",
    "\n",
    "# 切分訓練集/測試集\n",
    "X_train, X_test, y_train, y_test = train_test_split(df_wine, target, test_size=0.3, random_state=4)\n",
    "\n",
    "# 建立一個線性回歸模型\n",
    "lr = LinearRegression()\n",
    "\n",
    "# 將訓練資料丟進去模型訓練\n",
    "lr.fit(X_train, y_train)\n",
    "\n",
    "# 將測試資料丟進模型得到預測結果\n",
    "y_pred = lr.predict(X_test)\n",
    "\n",
    "# 印出各特徵對應的係數\n",
    "print(lr.coef_)\n",
    "\n",
    "# 預測值與實際值的差距，使用 MSE\n",
    "print(\"Mean squared error: %.2f\" % mean_squared_error(y_test, y_pred))"
   ]
  },
  {
   "cell_type": "markdown",
   "metadata": {},
   "source": [
    "alpha=0.1"
   ]
  },
  {
   "cell_type": "code",
   "execution_count": 4,
   "metadata": {},
   "outputs": [
    {
     "name": "stdout",
     "output_type": "stream",
     "text": [
      "lasso.coef_: [-0.          0.         -0.          0.03326615  0.00149006 -0.\n",
      " -0.26469539  0.         -0.          0.08814505 -0.         -0.03453645\n",
      " -0.0012518 ]\n",
      "Lasso Mean squared error: 0.11\n",
      "\n",
      "ridge.coef_: [-0.09908589  0.01212548 -0.18951765  0.04621754  0.00126924  0.13137057\n",
      " -0.3109315  -0.09426671  0.04662369  0.0753405  -0.12178339 -0.30405331\n",
      " -0.00081889]\n",
      "Ridge Mean squared error: 0.07\n"
     ]
    }
   ],
   "source": [
    "# 切分訓練集/測試集\n",
    "x_train, x_test, y_train, y_test = train_test_split(wine.data, wine.target, test_size=0.3, random_state=4)\n",
    "\n",
    "# 建立一個線性回歸模型\n",
    "lasso = Lasso(alpha=0.1)\n",
    "ridge = Ridge(alpha=0.1)\n",
    "\n",
    "# 將訓練資料丟進去模型訓練\n",
    "lasso.fit(x_train, y_train)\n",
    "ridge.fit(x_train, y_train)\n",
    "\n",
    "# 將測試資料丟進模型得到預測結果\n",
    "y_pred = lasso.predict(x_test)\n",
    "\n",
    "print(f'lasso.coef_: {lasso.coef_}')\n",
    "# 預測值與實際值的差距，使用 MSE\n",
    "print(\"Lasso Mean squared error: %.2f\"\n",
    "      % mean_squared_error(y_test, y_pred))\n",
    "print()\n",
    "\n",
    "# 將測試資料丟進模型得到預測結果\n",
    "y_pred = ridge.predict(x_test)\n",
    "\n",
    "print(f'ridge.coef_: {ridge.coef_}')\n",
    "# 預測值與實際值的差距，使用 MSE\n",
    "print(\"Ridge Mean squared error: %.2f\"\n",
    "      % mean_squared_error(y_test, y_pred))"
   ]
  },
  {
   "cell_type": "markdown",
   "metadata": {},
   "source": [
    "alpha=1.0"
   ]
  },
  {
   "cell_type": "code",
   "execution_count": 5,
   "metadata": {},
   "outputs": [
    {
     "name": "stdout",
     "output_type": "stream",
     "text": [
      "lasso.coef_: [ 0.          0.          0.          0.          0.         -0.\n",
      " -0.          0.         -0.          0.         -0.         -0.\n",
      " -0.00161519]\n",
      "Lasso Mean squared error: 0.41\n",
      "\n",
      "ridge.coef_: [-0.09688913  0.0134691  -0.17227376  0.04501149  0.00133898  0.10829142\n",
      " -0.3000121  -0.05292874  0.04386404  0.07697862 -0.10493811 -0.29315367\n",
      " -0.00083382]\n",
      "Ridge Mean squared error: 0.07\n"
     ]
    }
   ],
   "source": [
    "# 切分訓練集/測試集\n",
    "x_train, x_test, y_train, y_test = train_test_split(wine.data, wine.target, test_size=0.3, random_state=4)\n",
    "\n",
    "# 建立一個線性回歸模型\n",
    "lasso = Lasso(alpha=1.0)\n",
    "ridge = Ridge(alpha=1.0)\n",
    "\n",
    "# 將訓練資料丟進去模型訓練\n",
    "lasso.fit(x_train, y_train)\n",
    "ridge.fit(x_train, y_train)\n",
    "\n",
    "# 將測試資料丟進模型得到預測結果\n",
    "y_pred = lasso.predict(x_test)\n",
    "\n",
    "print(f'lasso.coef_: {lasso.coef_}')\n",
    "# 預測值與實際值的差距，使用 MSE\n",
    "print(\"Lasso Mean squared error: %.2f\"\n",
    "      % mean_squared_error(y_test, y_pred))\n",
    "print()\n",
    "\n",
    "# 將測試資料丟進模型得到預測結果\n",
    "y_pred = ridge.predict(x_test)\n",
    "\n",
    "print(f'ridge.coef_: {ridge.coef_}')\n",
    "# 預測值與實際值的差距，使用 MSE\n",
    "print(\"Ridge Mean squared error: %.2f\"\n",
    "      % mean_squared_error(y_test, y_pred))"
   ]
  }
 ],
 "metadata": {
  "kernelspec": {
   "display_name": "Python 3 (ipykernel)",
   "language": "python",
   "name": "python3"
  },
  "language_info": {
   "codemirror_mode": {
    "name": "ipython",
    "version": 3
   },
   "file_extension": ".py",
   "mimetype": "text/x-python",
   "name": "python",
   "nbconvert_exporter": "python",
   "pygments_lexer": "ipython3",
   "version": "3.9.7"
  }
 },
 "nbformat": 4,
 "nbformat_minor": 2
}
