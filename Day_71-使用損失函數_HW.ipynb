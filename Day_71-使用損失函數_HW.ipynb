{
 "cells": [
  {
   "cell_type": "markdown",
   "metadata": {
    "colab_type": "text",
    "id": "cj4tE8e8iUtO"
   },
   "source": [
    "#   \n",
    "\n",
    "# 作業目標:\n",
    "\n",
    "    1. 藉由固定的 dataset, 來驗證不同loss function\n",
    "    2. Dataset 的特性跟我們選用的loss function 對accrancy 的影響\n",
    "    \n",
    "    \n",
    "# 作業重點: \n",
    "    請分別選用 \"MSE\", \"binary _crossentropy\"\n",
    "    查看Train/test accurancy and loss rate\n",
    "    "
   ]
  },
  {
   "cell_type": "markdown",
   "metadata": {
    "colab_type": "text",
    "id": "R51J4KyyiUsL"
   },
   "source": [
    "# 導入必要的函數"
   ]
  },
  {
   "cell_type": "code",
   "execution_count": 1,
   "metadata": {
    "colab": {},
    "colab_type": "code",
    "id": "Qd68OQjciUsM"
   },
   "outputs": [],
   "source": [
    "from keras.datasets import cifar10\n",
    "import numpy as np\n",
    "np.random.seed(10)"
   ]
  },
  {
   "cell_type": "markdown",
   "metadata": {
    "colab_type": "text",
    "id": "GxKuzQLQiUsP"
   },
   "source": [
    "# 資料準備"
   ]
  },
  {
   "cell_type": "code",
   "execution_count": 2,
   "metadata": {
    "colab": {},
    "colab_type": "code",
    "id": "MIbFZdTCiUsQ"
   },
   "outputs": [],
   "source": [
    "#取得Keras Dataset\n",
    "(x_img_train,y_label_train),(x_img_test,y_label_test)=cifar10.load_data()"
   ]
  },
  {
   "cell_type": "code",
   "execution_count": 3,
   "metadata": {
    "colab": {},
    "colab_type": "code",
    "id": "J8CJVjNOiUsS"
   },
   "outputs": [
    {
     "name": "stdout",
     "output_type": "stream",
     "text": [
      "train data: images: (50000, 32, 32, 3)  labels: (50000, 1)\n",
      "test  data: images: (10000, 32, 32, 3)  labels: (10000, 1)\n"
     ]
    }
   ],
   "source": [
    "#確認 CIFAR10 Dataset 資料維度\n",
    "print(\"train data:\",'images:',x_img_train.shape,\n",
    "      \" labels:\",y_label_train.shape) \n",
    "print(\"test  data:\",'images:',x_img_test.shape ,\n",
    "      \" labels:\",y_label_test.shape) "
   ]
  },
  {
   "cell_type": "code",
   "execution_count": 4,
   "metadata": {
    "colab": {},
    "colab_type": "code",
    "id": "V3P6P4DXiUsV"
   },
   "outputs": [],
   "source": [
    "#資料正規化\n",
    "x_img_train_normalize = x_img_train.astype('float32') / 255.0\n",
    "x_img_test_normalize = x_img_test.astype('float32') / 255.0"
   ]
  },
  {
   "cell_type": "code",
   "execution_count": 5,
   "metadata": {
    "colab": {},
    "colab_type": "code",
    "id": "vsDyjKYliUsX"
   },
   "outputs": [
    {
     "data": {
      "text/plain": [
       "(10000, 10)"
      ]
     },
     "execution_count": 5,
     "metadata": {},
     "output_type": "execute_result"
    }
   ],
   "source": [
    "#針對Label 做 ONE HOT ENCODE\n",
    "from keras.utils import np_utils\n",
    "y_label_train_OneHot = np_utils.to_categorical(y_label_train)\n",
    "y_label_test_OneHot = np_utils.to_categorical(y_label_test)\n",
    "y_label_test_OneHot.shape"
   ]
  },
  {
   "cell_type": "markdown",
   "metadata": {
    "colab_type": "text",
    "id": "RutW2OtgiUsZ"
   },
   "source": [
    "# 建立模型"
   ]
  },
  {
   "cell_type": "code",
   "execution_count": 6,
   "metadata": {
    "colab": {},
    "colab_type": "code",
    "id": "aHz592aXiUsa"
   },
   "outputs": [],
   "source": [
    "from keras.models import Sequential\n",
    "from keras.layers import Dense, Dropout, Activation, Flatten\n",
    "from keras.layers import Conv2D, MaxPooling2D, ZeroPadding2D"
   ]
  },
  {
   "cell_type": "code",
   "execution_count": 7,
   "metadata": {
    "colab": {},
    "colab_type": "code",
    "id": "hslqrIp0iUse"
   },
   "outputs": [],
   "source": [
    "model = Sequential()"
   ]
  },
  {
   "cell_type": "code",
   "execution_count": 8,
   "metadata": {
    "colab": {},
    "colab_type": "code",
    "id": "Hqe35hs2iUsi"
   },
   "outputs": [],
   "source": [
    "#卷積層1"
   ]
  },
  {
   "cell_type": "code",
   "execution_count": 9,
   "metadata": {
    "colab": {},
    "colab_type": "code",
    "id": "ED7dqe1YiUsm"
   },
   "outputs": [],
   "source": [
    "model.add(Conv2D(filters=32,kernel_size=(3,3),\n",
    "                 input_shape=(32, 32,3), \n",
    "                 activation='relu', \n",
    "                 padding='same'))"
   ]
  },
  {
   "cell_type": "code",
   "execution_count": 10,
   "metadata": {
    "colab": {},
    "colab_type": "code",
    "id": "n-GRKmPViUso"
   },
   "outputs": [],
   "source": [
    "model.add(Dropout(rate=0.25))"
   ]
  },
  {
   "cell_type": "code",
   "execution_count": 11,
   "metadata": {
    "colab": {},
    "colab_type": "code",
    "id": "GlWnnD1uiUsw"
   },
   "outputs": [],
   "source": [
    "model.add(MaxPooling2D(pool_size=(2, 2)))"
   ]
  },
  {
   "cell_type": "code",
   "execution_count": 12,
   "metadata": {
    "colab": {},
    "colab_type": "code",
    "id": "nawlkt55iUsy"
   },
   "outputs": [],
   "source": [
    "#卷積層2與池化層2"
   ]
  },
  {
   "cell_type": "code",
   "execution_count": 13,
   "metadata": {
    "colab": {},
    "colab_type": "code",
    "id": "xxyETiKNiUs1"
   },
   "outputs": [],
   "source": [
    "model.add(Conv2D(filters=64, kernel_size=(3, 3), \n",
    "                 activation='relu', padding='same'))"
   ]
  },
  {
   "cell_type": "code",
   "execution_count": 14,
   "metadata": {
    "colab": {},
    "colab_type": "code",
    "id": "RqcKWtqGiUs2"
   },
   "outputs": [],
   "source": [
    "model.add(Dropout(0.25))"
   ]
  },
  {
   "cell_type": "code",
   "execution_count": 15,
   "metadata": {
    "colab": {},
    "colab_type": "code",
    "id": "BUOOzlqfiUs4"
   },
   "outputs": [],
   "source": [
    "model.add(MaxPooling2D(pool_size=(2, 2)))"
   ]
  },
  {
   "cell_type": "code",
   "execution_count": 16,
   "metadata": {
    "colab": {},
    "colab_type": "code",
    "id": "LpkppB2siUs7"
   },
   "outputs": [],
   "source": [
    "#建立神經網路(平坦層、隱藏層、輸出層)"
   ]
  },
  {
   "cell_type": "code",
   "execution_count": 17,
   "metadata": {
    "colab": {},
    "colab_type": "code",
    "id": "UQOfU54_iUs_"
   },
   "outputs": [],
   "source": [
    "model.add(Flatten())\n",
    "model.add(Dropout(rate=0.25))"
   ]
  },
  {
   "cell_type": "code",
   "execution_count": 18,
   "metadata": {
    "colab": {},
    "colab_type": "code",
    "id": "_NV-8sq4iUtD"
   },
   "outputs": [],
   "source": [
    "model.add(Dense(1024, activation='relu'))\n",
    "model.add(Dropout(rate=0.25))"
   ]
  },
  {
   "cell_type": "code",
   "execution_count": 19,
   "metadata": {
    "colab": {},
    "colab_type": "code",
    "id": "qVK77krOiUtF"
   },
   "outputs": [],
   "source": [
    "model.add(Dense(10, activation='softmax'))"
   ]
  },
  {
   "cell_type": "code",
   "execution_count": 20,
   "metadata": {
    "colab": {},
    "colab_type": "code",
    "id": "ZxzRIjR0iUtH"
   },
   "outputs": [
    {
     "name": "stdout",
     "output_type": "stream",
     "text": [
      "Model: \"sequential\"\n",
      "_________________________________________________________________\n",
      " Layer (type)                Output Shape              Param #   \n",
      "=================================================================\n",
      " conv2d (Conv2D)             (None, 32, 32, 32)        896       \n",
      "                                                                 \n",
      " dropout (Dropout)           (None, 32, 32, 32)        0         \n",
      "                                                                 \n",
      " max_pooling2d (MaxPooling2D  (None, 16, 16, 32)       0         \n",
      " )                                                               \n",
      "                                                                 \n",
      " conv2d_1 (Conv2D)           (None, 16, 16, 64)        18496     \n",
      "                                                                 \n",
      " dropout_1 (Dropout)         (None, 16, 16, 64)        0         \n",
      "                                                                 \n",
      " max_pooling2d_1 (MaxPooling  (None, 8, 8, 64)         0         \n",
      " 2D)                                                             \n",
      "                                                                 \n",
      " flatten (Flatten)           (None, 4096)              0         \n",
      "                                                                 \n",
      " dropout_2 (Dropout)         (None, 4096)              0         \n",
      "                                                                 \n",
      " dense (Dense)               (None, 1024)              4195328   \n",
      "                                                                 \n",
      " dropout_3 (Dropout)         (None, 1024)              0         \n",
      "                                                                 \n",
      " dense_1 (Dense)             (None, 10)                10250     \n",
      "                                                                 \n",
      "=================================================================\n",
      "Total params: 4,224,970\n",
      "Trainable params: 4,224,970\n",
      "Non-trainable params: 0\n",
      "_________________________________________________________________\n",
      "None\n"
     ]
    }
   ],
   "source": [
    "#檢查model 的STACK\n",
    "print(model.summary())"
   ]
  },
  {
   "cell_type": "markdown",
   "metadata": {
    "colab_type": "text",
    "id": "QJCtpJM0iUtJ"
   },
   "source": [
    "# 載入之前訓練的模型"
   ]
  },
  {
   "cell_type": "code",
   "execution_count": 21,
   "metadata": {
    "colab": {},
    "colab_type": "code",
    "id": "JU3A6NzQiUtK"
   },
   "outputs": [
    {
     "name": "stdout",
     "output_type": "stream",
     "text": [
      "載入模型失敗!開始訓練一個新模型\n"
     ]
    }
   ],
   "source": [
    "try:\n",
    "    model.load_weights(\"SaveModel/cifarCnnModel.h5\")\n",
    "    print(\"載入模型成功!繼續訓練模型\")\n",
    "except :    \n",
    "    print(\"載入模型失敗!開始訓練一個新模型\")"
   ]
  },
  {
   "cell_type": "markdown",
   "metadata": {
    "colab_type": "text",
    "id": "qBbCuziziUtM"
   },
   "source": [
    "# 訓練模型"
   ]
  },
  {
   "cell_type": "code",
   "execution_count": 22,
   "metadata": {
    "colab": {},
    "colab_type": "code",
    "id": "Q6BiBcseiUtP"
   },
   "outputs": [
    {
     "data": {
      "text/plain": [
       "'\\n作業:\\n請分別選用 \"MSE\", \"binary _crossentropy\"\\n查看Train/test accurancy and loss rate\\n'"
      ]
     },
     "execution_count": 22,
     "metadata": {},
     "output_type": "execute_result"
    }
   ],
   "source": [
    "model.compile(loss='categorical_crossentropy', optimizer='sgd', metrics=['accuracy'])\n",
    "\n",
    "'''\n",
    "作業:\n",
    "請分別選用 \"MSE\", \"binary _crossentropy\"\n",
    "查看Train/test accurancy and loss rate\n",
    "'''"
   ]
  },
  {
   "cell_type": "code",
   "execution_count": 23,
   "metadata": {
    "colab": {},
    "colab_type": "code",
    "id": "4-GdDgmQiUtS"
   },
   "outputs": [
    {
     "name": "stdout",
     "output_type": "stream",
     "text": [
      "Epoch 1/12\n",
      "293/293 [==============================] - 55s 186ms/step - loss: 2.1368 - accuracy: 0.2101 - val_loss: 2.0293 - val_accuracy: 0.2942\n",
      "Epoch 2/12\n",
      "293/293 [==============================] - 55s 189ms/step - loss: 1.9395 - accuracy: 0.3035 - val_loss: 1.9312 - val_accuracy: 0.3473\n",
      "Epoch 3/12\n",
      "293/293 [==============================] - 58s 197ms/step - loss: 1.8200 - accuracy: 0.3551 - val_loss: 1.8345 - val_accuracy: 0.3766\n",
      "Epoch 4/12\n",
      "293/293 [==============================] - 53s 180ms/step - loss: 1.7271 - accuracy: 0.3858 - val_loss: 1.7444 - val_accuracy: 0.4157\n",
      "Epoch 5/12\n",
      "293/293 [==============================] - 52s 178ms/step - loss: 1.6533 - accuracy: 0.4098 - val_loss: 1.6914 - val_accuracy: 0.4340\n",
      "Epoch 6/12\n",
      "293/293 [==============================] - 53s 182ms/step - loss: 1.5920 - accuracy: 0.4308 - val_loss: 1.6266 - val_accuracy: 0.4679\n",
      "Epoch 7/12\n",
      "293/293 [==============================] - 54s 183ms/step - loss: 1.5405 - accuracy: 0.4462 - val_loss: 1.5846 - val_accuracy: 0.4746\n",
      "Epoch 8/12\n",
      "293/293 [==============================] - 57s 196ms/step - loss: 1.4954 - accuracy: 0.4661 - val_loss: 1.5687 - val_accuracy: 0.4658\n",
      "Epoch 9/12\n",
      "293/293 [==============================] - 55s 187ms/step - loss: 1.4542 - accuracy: 0.4795 - val_loss: 1.5161 - val_accuracy: 0.4942\n",
      "Epoch 10/12\n",
      "293/293 [==============================] - 53s 182ms/step - loss: 1.4236 - accuracy: 0.4899 - val_loss: 1.4752 - val_accuracy: 0.5099\n",
      "Epoch 11/12\n",
      "293/293 [==============================] - 53s 180ms/step - loss: 1.3926 - accuracy: 0.5030 - val_loss: 1.4359 - val_accuracy: 0.5303\n",
      "Epoch 12/12\n",
      "293/293 [==============================] - 58s 198ms/step - loss: 1.3668 - accuracy: 0.5127 - val_loss: 1.4639 - val_accuracy: 0.5144\n"
     ]
    }
   ],
   "source": [
    "#模型訓練, \"Train_History\" 把訓練過程所得到的數值存起來\n",
    "train_history=model.fit(x_img_train_normalize, y_label_train_OneHot,\n",
    "                        validation_split=0.25,\n",
    "                        epochs=12, batch_size=128, verbose=1)         "
   ]
  },
  {
   "cell_type": "code",
   "execution_count": 24,
   "metadata": {},
   "outputs": [
    {
     "data": {
      "image/png": "[encoded data removed]",
      "text/plain": [
       "<Figure size 640x480 with 1 Axes>"
      ]
     },
     "metadata": {},
     "output_type": "display_data"
    }
   ],
   "source": [
    "import matplotlib.pyplot as plt\n",
    "%matplotlib inline\n",
    "\n",
    "#定義一個繪圖函數\n",
    "def show_train_history(train_acc,test_acc):\n",
    "    plt.plot(train_history.history[train_acc])\n",
    "    plt.plot(train_history.history[test_acc])\n",
    "    plt.title('Train History')\n",
    "    plt.ylabel('Accuracy')\n",
    "    plt.xlabel('Epoch')\n",
    "    plt.legend(['train_acc', 'val_acc'], loc='upper left')\n",
    "    plt.show()\n",
    "\n",
    "show_train_history('accuracy','val_accuracy')"
   ]
  },
  {
   "cell_type": "code",
   "execution_count": 25,
   "metadata": {},
   "outputs": [
    {
     "name": "stdout",
     "output_type": "stream",
     "text": [
      "Epoch 1/12\n",
      "293/293 [==============================] - 53s 179ms/step - loss: 0.0613 - accuracy: 0.5228 - val_loss: 0.0636 - val_accuracy: 0.5392\n",
      "Epoch 2/12\n",
      "293/293 [==============================] - 50s 172ms/step - loss: 0.0609 - accuracy: 0.5285 - val_loss: 0.0636 - val_accuracy: 0.5389\n",
      "Epoch 3/12\n",
      "293/293 [==============================] - 53s 179ms/step - loss: 0.0609 - accuracy: 0.5291 - val_loss: 0.0635 - val_accuracy: 0.5424\n",
      "Epoch 4/12\n",
      "293/293 [==============================] - 51s 175ms/step - loss: 0.0608 - accuracy: 0.5273 - val_loss: 0.0633 - val_accuracy: 0.5445\n",
      "Epoch 5/12\n",
      "293/293 [==============================] - 52s 177ms/step - loss: 0.0607 - accuracy: 0.5292 - val_loss: 0.0632 - val_accuracy: 0.5434\n",
      "Epoch 6/12\n",
      "293/293 [==============================] - 52s 177ms/step - loss: 0.0607 - accuracy: 0.5310 - val_loss: 0.0632 - val_accuracy: 0.5434\n",
      "Epoch 7/12\n",
      "293/293 [==============================] - 56s 191ms/step - loss: 0.0607 - accuracy: 0.5307 - val_loss: 0.0631 - val_accuracy: 0.5440\n",
      "Epoch 8/12\n",
      "293/293 [==============================] - 58s 197ms/step - loss: 0.0606 - accuracy: 0.5318 - val_loss: 0.0630 - val_accuracy: 0.5429\n",
      "Epoch 9/12\n",
      "293/293 [==============================] - 56s 192ms/step - loss: 0.0606 - accuracy: 0.5324 - val_loss: 0.0630 - val_accuracy: 0.5454\n",
      "Epoch 10/12\n",
      "293/293 [==============================] - 58s 199ms/step - loss: 0.0604 - accuracy: 0.5318 - val_loss: 0.0630 - val_accuracy: 0.5440\n",
      "Epoch 11/12\n",
      "293/293 [==============================] - 58s 199ms/step - loss: 0.0604 - accuracy: 0.5347 - val_loss: 0.0629 - val_accuracy: 0.5459\n",
      "Epoch 12/12\n",
      "293/293 [==============================] - 64s 218ms/step - loss: 0.0605 - accuracy: 0.5306 - val_loss: 0.0628 - val_accuracy: 0.5496\n"
     ]
    }
   ],
   "source": [
    "# MSE: mean_squared_error\n",
    "model.compile(loss= 'mean_squared_error', optimizer='sgd', metrics=['accuracy'])\n",
    "train_history=model.fit(x_img_train_normalize, y_label_train_OneHot,\n",
    "                        validation_split=0.25,\n",
    "                        epochs=12, batch_size=128, verbose=1)         "
   ]
  },
  {
   "cell_type": "code",
   "execution_count": 27,
   "metadata": {},
   "outputs": [
    {
     "data": {
      "image/png": "[encoded data removed]",
      "text/plain": [
       "<Figure size 640x480 with 1 Axes>"
      ]
     },
     "metadata": {},
     "output_type": "display_data"
    }
   ],
   "source": [
    "show_train_history('accuracy','val_accuracy')"
   ]
  },
  {
   "cell_type": "code",
   "execution_count": 28,
   "metadata": {},
   "outputs": [
    {
     "name": "stdout",
     "output_type": "stream",
     "text": [
      "Epoch 1/12\n",
      "293/293 [==============================] - 59s 199ms/step - loss: 0.2682 - accuracy: 0.4990 - val_loss: 0.2584 - val_accuracy: 0.5420\n",
      "Epoch 2/12\n",
      "293/293 [==============================] - 58s 198ms/step - loss: 0.2306 - accuracy: 0.5142 - val_loss: 0.2547 - val_accuracy: 0.5414\n",
      "Epoch 3/12\n",
      "293/293 [==============================] - 61s 208ms/step - loss: 0.2270 - accuracy: 0.5182 - val_loss: 0.2518 - val_accuracy: 0.5391\n",
      "Epoch 4/12\n",
      "293/293 [==============================] - 59s 202ms/step - loss: 0.2250 - accuracy: 0.5185 - val_loss: 0.2506 - val_accuracy: 0.5435\n",
      "Epoch 5/12\n",
      "293/293 [==============================] - 59s 202ms/step - loss: 0.2234 - accuracy: 0.5237 - val_loss: 0.2497 - val_accuracy: 0.5428\n",
      "Epoch 6/12\n",
      "293/293 [==============================] - 61s 207ms/step - loss: 0.2224 - accuracy: 0.5210 - val_loss: 0.2482 - val_accuracy: 0.5443\n",
      "Epoch 7/12\n",
      "293/293 [==============================] - 62s 211ms/step - loss: 0.2209 - accuracy: 0.5251 - val_loss: 0.2469 - val_accuracy: 0.5424\n",
      "Epoch 8/12\n",
      "293/293 [==============================] - 59s 201ms/step - loss: 0.2200 - accuracy: 0.5266 - val_loss: 0.2466 - val_accuracy: 0.5464\n",
      "Epoch 9/12\n",
      "293/293 [==============================] - 63s 215ms/step - loss: 0.2191 - accuracy: 0.5295 - val_loss: 0.2458 - val_accuracy: 0.5502\n",
      "Epoch 10/12\n",
      "293/293 [==============================] - 62s 212ms/step - loss: 0.2184 - accuracy: 0.5309 - val_loss: 0.2449 - val_accuracy: 0.5503\n",
      "Epoch 11/12\n",
      "293/293 [==============================] - 62s 210ms/step - loss: 0.2176 - accuracy: 0.5334 - val_loss: 0.2446 - val_accuracy: 0.5501\n",
      "Epoch 12/12\n",
      "293/293 [==============================] - 61s 209ms/step - loss: 0.2170 - accuracy: 0.5313 - val_loss: 0.2442 - val_accuracy: 0.5506\n"
     ]
    }
   ],
   "source": [
    "# binary_crossentropy\n",
    "model.compile(loss= 'binary_crossentropy', optimizer='sgd', metrics=['accuracy'])\n",
    "train_history=model.fit(x_img_train_normalize, y_label_train_OneHot,\n",
    "                        validation_split=0.25,\n",
    "                        epochs=12, batch_size=128, verbose=1) "
   ]
  },
  {
   "cell_type": "code",
   "execution_count": 29,
   "metadata": {},
   "outputs": [
    {
     "data": {
      "image/png": "[encoded data removed]",
      "text/plain": [
       "<Figure size 640x480 with 1 Axes>"
      ]
     },
     "metadata": {},
     "output_type": "display_data"
    }
   ],
   "source": [
    "show_train_history('accuracy','val_accuracy')"
   ]
  },
  {
   "cell_type": "code",
   "execution_count": null,
   "metadata": {},
   "outputs": [],
   "source": []
  }
 ],
 "metadata": {
  "colab": {
   "name": "Day71-使用損失函數_HW.ipynb",
   "provenance": [],
   "version": "0.3.2"
  },
  "kernelspec": {
   "display_name": "Python 3 (ipykernel)",
   "language": "python",
   "name": "python3"
  },
  "language_info": {
   "codemirror_mode": {
    "name": "ipython",
    "version": 3
   },
   "file_extension": ".py",
   "mimetype": "text/x-python",
   "name": "python",
   "nbconvert_exporter": "python",
   "pygments_lexer": "ipython3",
   "version": "3.9.7"
  }
 },
 "nbformat": 4,
 "nbformat_minor": 1
}
