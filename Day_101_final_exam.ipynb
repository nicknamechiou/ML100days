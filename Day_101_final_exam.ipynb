{
 "cells": [
  {
   "cell_type": "code",
   "execution_count": 1,
   "id": "2cc52e7e",
   "metadata": {},
   "outputs": [],
   "source": [
    "import cv2\n",
    "import numpy as np\n",
    "import os\n",
    "\n",
    "from keras.layers import Dense, Dropout, Activation, Flatten\n",
    "from keras.layers import Conv2D, MaxPooling2D\n",
    "from keras.models import Model, Sequential\n",
    "from keras.preprocessing.image import ImageDataGenerator\n",
    "from keras.utils.np_utils import to_categorical\n",
    "from resnet_builder import resnet # 這是從 resnet_builder.py 中直接 import 撰寫好的 resnet 函數\n",
    "from sklearn.model_selection import train_test_split\n",
    "from tensorflow.keras.optimizers import Adam"
   ]
  },
  {
   "cell_type": "code",
   "execution_count": 2,
   "id": "275ae89c",
   "metadata": {},
   "outputs": [],
   "source": [
    "train_path = './2021-ml-100-marathon-final-exam/image_data/train'\n",
    "test_path = './2021-ml-100-marathon-final-exam/image_data/test'"
   ]
  },
  {
   "cell_type": "code",
   "execution_count": 3,
   "id": "c81c0e3f",
   "metadata": {},
   "outputs": [],
   "source": [
    "os.listdir(train_path)\n",
    "num_classes = len(os.listdir(train_path))"
   ]
  },
  {
   "cell_type": "code",
   "execution_count": 4,
   "id": "67d0f431",
   "metadata": {},
   "outputs": [],
   "source": [
    "x = [] \n",
    "y = []\n",
    "\n",
    "for idx, flower in enumerate(os.listdir(train_path)):\n",
    "    for filename in os.listdir(f'{train_path}/{flower}'):\n",
    "        y.append([idx])\n",
    "        img = cv2.imread(f'{train_path}/{flower}/{filename}')\n",
    "        img = cv2.resize(img, (100, 100))\n",
    "        x.append(img)"
   ]
  },
  {
   "cell_type": "code",
   "execution_count": 5,
   "id": "6bc35fd1",
   "metadata": {},
   "outputs": [],
   "source": [
    "x = np.array(x)\n",
    "y = np.array(y)\n",
    "\n",
    "x_train, x_test, y_train, y_test = train_test_split(x, y, random_state=777, train_size=0.8)"
   ]
  },
  {
   "cell_type": "code",
   "execution_count": 6,
   "id": "99b954de",
   "metadata": {},
   "outputs": [],
   "source": [
    "x_train = x_train.astype('float32')\n",
    "x_test = x_test.astype('float32')\n",
    "\n",
    "x_train = x_train / 255.\n",
    "x_test = x_test / 255.\n",
    "y_train = to_categorical(y_train, num_classes) # 類別的數量，train 共有 5 個類別\n",
    "y_test = to_categorical(y_test, num_classes)"
   ]
  },
  {
   "cell_type": "code",
   "execution_count": 7,
   "id": "6a137278",
   "metadata": {},
   "outputs": [
    {
     "data": {
      "text/plain": [
       "(2258, 100, 100, 3)"
      ]
     },
     "execution_count": 7,
     "metadata": {},
     "output_type": "execute_result"
    }
   ],
   "source": [
    "x_train.shape"
   ]
  },
  {
   "cell_type": "code",
   "execution_count": 8,
   "id": "49562519",
   "metadata": {},
   "outputs": [
    {
     "data": {
      "text/plain": [
       "(2258, 5)"
      ]
     },
     "execution_count": 8,
     "metadata": {},
     "output_type": "execute_result"
    }
   ],
   "source": [
    "y_train.shape"
   ]
  },
  {
   "cell_type": "code",
   "execution_count": 9,
   "id": "839796fc",
   "metadata": {},
   "outputs": [],
   "source": [
    "# 建立 ImageDataGenerator，並指定我們要做資料增強的數值範圍\n",
    "data_generator = ImageDataGenerator(\n",
    "    rotation_range=40, # 角度值，0~180，影象旋轉\n",
    "    width_shift_range=0.2, # 水平平移，相對總寬度的比例\n",
    "    height_shift_range=0.2, # 垂直平移，相對總高度的比例\n",
    "    shear_range=0.2, # 隨機錯切換角度\n",
    "    zoom_range=0.2, # 隨機縮放範圍\n",
    "    horizontal_flip=True, # 一半影象水平翻轉\n",
    "    fill_mode='nearest' # 填充新建立畫素的方法\n",
    ")"
   ]
  },
  {
   "cell_type": "code",
   "execution_count": 10,
   "id": "0b812194",
   "metadata": {},
   "outputs": [
    {
     "name": "stdout",
     "output_type": "stream",
     "text": [
      "Model: \"sequential\"\n",
      "_________________________________________________________________\n",
      " Layer (type)                Output Shape              Param #   \n",
      "=================================================================\n",
      " conv2d (Conv2D)             (None, 100, 100, 32)      896       \n",
      "                                                                 \n",
      " activation (Activation)     (None, 100, 100, 32)      0         \n",
      "                                                                 \n",
      " conv2d_1 (Conv2D)           (None, 98, 98, 32)        9248      \n",
      "                                                                 \n",
      " activation_1 (Activation)   (None, 98, 98, 32)        0         \n",
      "                                                                 \n",
      " max_pooling2d (MaxPooling2D  (None, 49, 49, 32)       0         \n",
      " )                                                               \n",
      "                                                                 \n",
      " dropout (Dropout)           (None, 49, 49, 32)        0         \n",
      "                                                                 \n",
      " conv2d_2 (Conv2D)           (None, 49, 49, 64)        18496     \n",
      "                                                                 \n",
      " activation_2 (Activation)   (None, 49, 49, 64)        0         \n",
      "                                                                 \n",
      " conv2d_3 (Conv2D)           (None, 47, 47, 64)        36928     \n",
      "                                                                 \n",
      " activation_3 (Activation)   (None, 47, 47, 64)        0         \n",
      "                                                                 \n",
      " max_pooling2d_1 (MaxPooling  (None, 23, 23, 64)       0         \n",
      " 2D)                                                             \n",
      "                                                                 \n",
      " dropout_1 (Dropout)         (None, 23, 23, 64)        0         \n",
      "                                                                 \n",
      " flatten (Flatten)           (None, 33856)             0         \n",
      "                                                                 \n",
      " dense (Dense)               (None, 512)               17334784  \n",
      "                                                                 \n",
      " activation_4 (Activation)   (None, 512)               0         \n",
      "                                                                 \n",
      " dropout_2 (Dropout)         (None, 512)               0         \n",
      "                                                                 \n",
      " dense_1 (Dense)             (None, 5)                 2565      \n",
      "                                                                 \n",
      " activation_5 (Activation)   (None, 5)                 0         \n",
      "                                                                 \n",
      "=================================================================\n",
      "Total params: 17,402,917\n",
      "Trainable params: 17,402,917\n",
      "Non-trainable params: 0\n",
      "_________________________________________________________________\n"
     ]
    }
   ],
   "source": [
    "# 建立 ResNet 模型\n",
    "# model = resnet(input_shape=_train.shape[1:]) \n",
    "model = Sequential()\n",
    "model.add(Conv2D(32, (3, 3), padding='same',\n",
    "                 input_shape=x_train.shape[1:]))\n",
    "model.add(Activation('relu'))\n",
    "model.add(Conv2D(32, (3, 3)))\n",
    "model.add(Activation('relu'))\n",
    "model.add(MaxPooling2D(pool_size=(2, 2)))\n",
    "model.add(Dropout(0.25))\n",
    "\n",
    "model.add(Conv2D(64, (3, 3), padding='same'))\n",
    "model.add(Activation('relu'))\n",
    "model.add(Conv2D(64, (3, 3)))\n",
    "model.add(Activation('relu'))\n",
    "model.add(MaxPooling2D(pool_size=(2, 2)))\n",
    "model.add(Dropout(0.25))\n",
    "\n",
    "model.add(Flatten())\n",
    "model.add(Dense(512))\n",
    "model.add(Activation('relu'))\n",
    "model.add(Dropout(0.5))\n",
    "model.add(Dense(num_classes))\n",
    "model.add(Activation('softmax'))\n",
    "\n",
    "model.summary()"
   ]
  },
  {
   "cell_type": "code",
   "execution_count": 11,
   "id": "5d2d961c",
   "metadata": {},
   "outputs": [
    {
     "name": "stderr",
     "output_type": "stream",
     "text": [
      "C:\\Users\\jmk80\\AppData\\Local\\Temp\\ipykernel_16744\\2223516136.py:9: UserWarning: `Model.fit_generator` is deprecated and will be removed in a future version. Please use `Model.fit`, which supports generators.\n",
      "  model.fit_generator(data_generator.flow(x_train, y_train, batch_size=batch_size),\n"
     ]
    },
    {
     "name": "stdout",
     "output_type": "stream",
     "text": [
      "Epoch 1/30\n",
      "35/35 [==============================] - 45s 1s/step - loss: 1.6108 - accuracy: 0.2821 - val_loss: 1.3412 - val_accuracy: 0.3912\n",
      "Epoch 2/30\n",
      "35/35 [==============================] - 44s 1s/step - loss: 1.3345 - accuracy: 0.4371 - val_loss: 1.4145 - val_accuracy: 0.4761\n",
      "Epoch 3/30\n",
      "35/35 [==============================] - 44s 1s/step - loss: 1.2864 - accuracy: 0.4540 - val_loss: 1.2134 - val_accuracy: 0.5310\n",
      "Epoch 4/30\n",
      "35/35 [==============================] - 43s 1s/step - loss: 1.2198 - accuracy: 0.4754 - val_loss: 1.1959 - val_accuracy: 0.5044\n",
      "Epoch 5/30\n",
      "35/35 [==============================] - 44s 1s/step - loss: 1.1925 - accuracy: 0.4982 - val_loss: 1.1386 - val_accuracy: 0.5416\n",
      "Epoch 6/30\n",
      "35/35 [==============================] - 43s 1s/step - loss: 1.1459 - accuracy: 0.5356 - val_loss: 1.1234 - val_accuracy: 0.5770\n",
      "Epoch 7/30\n",
      "35/35 [==============================] - 44s 1s/step - loss: 1.1063 - accuracy: 0.5593 - val_loss: 1.1163 - val_accuracy: 0.5398\n",
      "Epoch 8/30\n",
      "35/35 [==============================] - 43s 1s/step - loss: 1.1020 - accuracy: 0.5752 - val_loss: 1.0948 - val_accuracy: 0.5823\n",
      "Epoch 9/30\n",
      "35/35 [==============================] - 43s 1s/step - loss: 1.0504 - accuracy: 0.5953 - val_loss: 0.9916 - val_accuracy: 0.5894\n",
      "Epoch 10/30\n",
      "35/35 [==============================] - 44s 1s/step - loss: 1.0160 - accuracy: 0.6062 - val_loss: 1.0837 - val_accuracy: 0.5735\n",
      "Epoch 11/30\n",
      "35/35 [==============================] - 43s 1s/step - loss: 1.0091 - accuracy: 0.6126 - val_loss: 1.0368 - val_accuracy: 0.6106\n",
      "Epoch 12/30\n",
      "35/35 [==============================] - 44s 1s/step - loss: 0.9742 - accuracy: 0.6299 - val_loss: 0.9222 - val_accuracy: 0.6442\n",
      "Epoch 13/30\n",
      "35/35 [==============================] - 46s 1s/step - loss: 0.9622 - accuracy: 0.6304 - val_loss: 0.8990 - val_accuracy: 0.6442\n",
      "Epoch 14/30\n",
      "35/35 [==============================] - 45s 1s/step - loss: 0.9485 - accuracy: 0.6290 - val_loss: 0.8578 - val_accuracy: 0.6991\n",
      "Epoch 15/30\n",
      "35/35 [==============================] - 45s 1s/step - loss: 0.9181 - accuracy: 0.6390 - val_loss: 0.8696 - val_accuracy: 0.6602\n",
      "Epoch 16/30\n",
      "35/35 [==============================] - 46s 1s/step - loss: 0.9052 - accuracy: 0.6454 - val_loss: 0.8494 - val_accuracy: 0.6726\n",
      "Epoch 17/30\n",
      "35/35 [==============================] - 45s 1s/step - loss: 0.8985 - accuracy: 0.6545 - val_loss: 0.8972 - val_accuracy: 0.6673\n",
      "Epoch 18/30\n",
      "35/35 [==============================] - 45s 1s/step - loss: 0.8860 - accuracy: 0.6650 - val_loss: 0.9109 - val_accuracy: 0.6726\n",
      "Epoch 19/30\n",
      "35/35 [==============================] - 44s 1s/step - loss: 0.8759 - accuracy: 0.6727 - val_loss: 0.7982 - val_accuracy: 0.7080\n",
      "Epoch 20/30\n",
      "35/35 [==============================] - 44s 1s/step - loss: 0.8464 - accuracy: 0.6737 - val_loss: 0.8017 - val_accuracy: 0.6991\n",
      "Epoch 21/30\n",
      "35/35 [==============================] - 44s 1s/step - loss: 0.8479 - accuracy: 0.6855 - val_loss: 0.8148 - val_accuracy: 0.6850\n",
      "Epoch 22/30\n",
      "35/35 [==============================] - 43s 1s/step - loss: 0.8543 - accuracy: 0.6709 - val_loss: 0.7806 - val_accuracy: 0.7115\n",
      "Epoch 23/30\n",
      "35/35 [==============================] - 44s 1s/step - loss: 0.8215 - accuracy: 0.6837 - val_loss: 0.8111 - val_accuracy: 0.7027\n",
      "Epoch 24/30\n",
      "35/35 [==============================] - 44s 1s/step - loss: 0.8146 - accuracy: 0.6860 - val_loss: 0.7921 - val_accuracy: 0.7133\n",
      "Epoch 25/30\n",
      "35/35 [==============================] - 44s 1s/step - loss: 0.7845 - accuracy: 0.6992 - val_loss: 0.8242 - val_accuracy: 0.6920\n",
      "Epoch 26/30\n",
      "35/35 [==============================] - 44s 1s/step - loss: 0.8002 - accuracy: 0.7001 - val_loss: 0.7385 - val_accuracy: 0.7133\n",
      "Epoch 27/30\n",
      "35/35 [==============================] - 43s 1s/step - loss: 0.7876 - accuracy: 0.7138 - val_loss: 0.7762 - val_accuracy: 0.6973\n",
      "Epoch 28/30\n",
      "35/35 [==============================] - 43s 1s/step - loss: 0.7586 - accuracy: 0.7083 - val_loss: 0.7636 - val_accuracy: 0.7257\n",
      "Epoch 29/30\n",
      "35/35 [==============================] - 44s 1s/step - loss: 0.7813 - accuracy: 0.7115 - val_loss: 0.7351 - val_accuracy: 0.7257\n",
      "Epoch 30/30\n",
      "35/35 [==============================] - 45s 1s/step - loss: 0.7486 - accuracy: 0.7142 - val_loss: 0.7207 - val_accuracy: 0.7274\n",
      "18/18 [==============================] - 3s 143ms/step - loss: 0.7207 - accuracy: 0.7274\n",
      "Test loss: 0.7207194566726685\n",
      "Test accuracy: 0.7274336218833923\n"
     ]
    }
   ],
   "source": [
    "batch_size = 64 # batch 的大小，如果出現 OOM error，請降低這個值\n",
    "num_classes = 5 # 類別的數量\n",
    "epochs = 30 # 訓練整個資料集共 30個循環\n",
    "\n",
    "model.compile(loss='categorical_crossentropy',\n",
    "              optimizer=Adam(),\n",
    "              metrics=['accuracy'])\n",
    "\n",
    "model.fit_generator(data_generator.flow(x_train, y_train, batch_size=batch_size),\n",
    "                    steps_per_epoch=int(len(x_train)/batch_size), \n",
    "                    epochs=epochs,\n",
    "                    verbose=1,\n",
    "                    validation_data=(x_test, y_test))\n",
    "\n",
    "score = model.evaluate(x_test, y_test, verbose=1)\n",
    "print('Test loss:', score[0])\n",
    "print('Test accuracy:', score[1])"
   ]
  },
  {
   "cell_type": "code",
   "execution_count": 18,
   "id": "604cb60f",
   "metadata": {},
   "outputs": [],
   "source": [
    "test_img = []\n",
    "test_filenames = []\n",
    "\n",
    "for filename in os.listdir(test_path):\n",
    "    test_filenames.append(filename)\n",
    "    img = cv2.imread(f'{test_path}/{filename}')\n",
    "    img = cv2.resize(img, (100, 100))\n",
    "    test_img.append(img)"
   ]
  },
  {
   "cell_type": "code",
   "execution_count": 19,
   "id": "1d7b678e",
   "metadata": {},
   "outputs": [
    {
     "data": {
      "text/plain": [
       "(2000, 100, 100, 3)"
      ]
     },
     "execution_count": 19,
     "metadata": {},
     "output_type": "execute_result"
    }
   ],
   "source": [
    "test_img = np.array(test_img)\n",
    "test_img.shape"
   ]
  },
  {
   "cell_type": "code",
   "execution_count": 20,
   "id": "75d2d816",
   "metadata": {},
   "outputs": [
    {
     "data": {
      "text/plain": [
       "array([2, 0, 4, ..., 0, 3, 4], dtype=int64)"
      ]
     },
     "execution_count": 20,
     "metadata": {},
     "output_type": "execute_result"
    }
   ],
   "source": [
    "test_img = test_img / 255.\n",
    "pred = model.predict(test_img)\n",
    "pred = np.argmax(pred, axis=1)\n",
    "pred"
   ]
  },
  {
   "cell_type": "code",
   "execution_count": 21,
   "id": "28924c57",
   "metadata": {},
   "outputs": [],
   "source": [
    "import csv\n",
    "with open('Day_101_final_exam.csv','w', newline='') as csvfile:\n",
    "    writer = csv.writer(csvfile)\n",
    "    writer.writerow(['id', 'flower_class'])\n",
    "    for f, p in zip(test_filenames, pred):\n",
    "        writer.writerow([f[:-4], p])"
   ]
  },
  {
   "cell_type": "code",
   "execution_count": null,
   "id": "6c3da34c",
   "metadata": {},
   "outputs": [],
   "source": []
  }
 ],
 "metadata": {
  "kernelspec": {
   "display_name": "Python 3 (ipykernel)",
   "language": "python",
   "name": "python3"
  },
  "language_info": {
   "codemirror_mode": {
    "name": "ipython",
    "version": 3
   },
   "file_extension": ".py",
   "mimetype": "text/x-python",
   "name": "python",
   "nbconvert_exporter": "python",
   "pygments_lexer": "ipython3",
   "version": "3.9.7"
  }
 },
 "nbformat": 4,
 "nbformat_minor": 5
}
