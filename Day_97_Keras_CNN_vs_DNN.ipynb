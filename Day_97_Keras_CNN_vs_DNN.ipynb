{
 "cells": [
  {
   "cell_type": "code",
   "execution_count": 1,
   "metadata": {},
   "outputs": [],
   "source": [
    "import keras\n",
    "from keras.datasets import cifar10\n",
    "from keras.preprocessing.image import ImageDataGenerator\n",
    "from keras.models import Sequential\n",
    "from keras.layers import Dense, Dropout, Activation, Flatten\n",
    "from keras.layers import Conv2D, MaxPooling2D\n",
    "from tensorflow.keras.optimizers import RMSprop, Adam\n",
    "from keras.utils import np_utils\n",
    "\n",
    "import os"
   ]
  },
  {
   "cell_type": "code",
   "execution_count": 2,
   "metadata": {},
   "outputs": [
    {
     "name": "stdout",
     "output_type": "stream",
     "text": [
      "x_train shape: (50000, 32, 32, 3)\n",
      "50000 train samples\n",
      "10000 test samples\n"
     ]
    }
   ],
   "source": [
    "batch_size = 128 # batch 的大小，如果出現 OOM error，請降低這個值\n",
    "num_classes = 10 # 類別的數量，Cifar 10 共有 10 個類別\n",
    "epochs = 10 # 訓練的 epochs 數量\n",
    "\n",
    "# 讀取資料並檢視\n",
    "(x_train, y_train), (x_test, y_test) = cifar10.load_data()\n",
    "print('x_train shape:', x_train.shape)\n",
    "print(x_train.shape[0], 'train samples')\n",
    "print(x_test.shape[0], 'test samples')\n",
    "\n",
    "# 對 label 進行 one-hot encoding (y_trian 原本是純數字)\n",
    "y_train = np_utils.to_categorical(y_train, num_classes)\n",
    "y_test = np_utils.to_categorical(y_test, num_classes)"
   ]
  },
  {
   "cell_type": "markdown",
   "metadata": {},
   "source": [
    "## 首先我們使用一般的 DNN (MLP) 來訓練\n",
    "由於 DNN 只能輸入一維的資料，我們要先將影像進行攤平，若 (50000, 32, 32, 3) 的影像，攤平後會變成 (50000, 32*32*3) = (50000, 3072)"
   ]
  },
  {
   "cell_type": "code",
   "execution_count": 3,
   "metadata": {},
   "outputs": [
    {
     "name": "stdout",
     "output_type": "stream",
     "text": [
      "50000 train samples\n",
      "10000 test samples\n"
     ]
    }
   ],
   "source": [
    "# 將資料攤平成一維資料\n",
    "x_train = x_train.reshape(50000, 3072) \n",
    "x_test = x_test.reshape(10000, 3072)\n",
    "\n",
    "# 將資料變為 float32 並標準化\n",
    "x_train = x_train.astype('float32')\n",
    "x_test = x_test.astype('float32')\n",
    "x_train /= 255\n",
    "x_test /= 255\n",
    "print(x_train.shape[0], 'train samples')\n",
    "print(x_test.shape[0], 'test samples')"
   ]
  },
  {
   "cell_type": "code",
   "execution_count": 4,
   "metadata": {},
   "outputs": [
    {
     "name": "stdout",
     "output_type": "stream",
     "text": [
      "Model: \"sequential\"\n",
      "_________________________________________________________________\n",
      " Layer (type)                Output Shape              Param #   \n",
      "=================================================================\n",
      " dense (Dense)               (None, 512)               1573376   \n",
      "                                                                 \n",
      " dropout (Dropout)           (None, 512)               0         \n",
      "                                                                 \n",
      " dense_1 (Dense)             (None, 512)               262656    \n",
      "                                                                 \n",
      " dropout_1 (Dropout)         (None, 512)               0         \n",
      "                                                                 \n",
      " dense_2 (Dense)             (None, 10)                5130      \n",
      "                                                                 \n",
      "=================================================================\n",
      "Total params: 1,841,162\n",
      "Trainable params: 1,841,162\n",
      "Non-trainable params: 0\n",
      "_________________________________________________________________\n",
      "Epoch 1/10\n",
      "391/391 [==============================] - 9s 23ms/step - loss: 2.1792 - accuracy: 0.2478 - val_loss: 1.9262 - val_accuracy: 0.3133\n",
      "Epoch 2/10\n",
      "391/391 [==============================] - 11s 27ms/step - loss: 1.8538 - accuracy: 0.3297 - val_loss: 1.8722 - val_accuracy: 0.3236\n",
      "Epoch 3/10\n",
      "391/391 [==============================] - 10s 24ms/step - loss: 1.7732 - accuracy: 0.3617 - val_loss: 1.6964 - val_accuracy: 0.4028\n",
      "Epoch 4/10\n",
      "391/391 [==============================] - 9s 23ms/step - loss: 1.7233 - accuracy: 0.3834 - val_loss: 1.6962 - val_accuracy: 0.3779\n",
      "Epoch 5/10\n",
      "391/391 [==============================] - 9s 23ms/step - loss: 1.6825 - accuracy: 0.3961 - val_loss: 1.6396 - val_accuracy: 0.4145\n",
      "Epoch 6/10\n",
      "391/391 [==============================] - 9s 23ms/step - loss: 1.6545 - accuracy: 0.4049 - val_loss: 1.6305 - val_accuracy: 0.4234\n",
      "Epoch 7/10\n",
      "391/391 [==============================] - 8s 21ms/step - loss: 1.6305 - accuracy: 0.4133 - val_loss: 1.5839 - val_accuracy: 0.4314\n",
      "Epoch 8/10\n",
      "391/391 [==============================] - 9s 22ms/step - loss: 1.6139 - accuracy: 0.4220 - val_loss: 1.6001 - val_accuracy: 0.4369\n",
      "Epoch 9/10\n",
      "391/391 [==============================] - 9s 23ms/step - loss: 1.6001 - accuracy: 0.4285 - val_loss: 1.5898 - val_accuracy: 0.4377\n",
      "Epoch 10/10\n",
      "391/391 [==============================] - 9s 22ms/step - loss: 1.5857 - accuracy: 0.4337 - val_loss: 1.5632 - val_accuracy: 0.4526\n",
      "Test loss: 1.5632233619689941\n",
      "Test accuracy: 0.45260000228881836\n"
     ]
    }
   ],
   "source": [
    "model = Sequential()\n",
    "model.add(Dense(512, activation='relu', input_shape=(3072,)))\n",
    "model.add(Dropout(0.2))\n",
    "model.add(Dense(512, activation='relu'))\n",
    "model.add(Dropout(0.2))\n",
    "model.add(Dense(num_classes, activation='softmax'))\n",
    "\n",
    "model.summary()\n",
    "\n",
    "model.compile(loss='categorical_crossentropy',\n",
    "              optimizer=RMSprop(),\n",
    "              metrics=['accuracy'])\n",
    "\n",
    "history = model.fit(x_train, y_train,\n",
    "                    batch_size=batch_size,\n",
    "                    epochs=epochs,\n",
    "                    verbose=1,\n",
    "                    validation_data=(x_test, y_test))\n",
    "score = model.evaluate(x_test, y_test, verbose=0)\n",
    "print('Test loss:', score[0])\n",
    "print('Test accuracy:', score[1])"
   ]
  },
  {
   "cell_type": "markdown",
   "metadata": {},
   "source": [
    "## 接下來我們使用 CNN 來訓練神經網路\n",
    "CNN 的原理非常適合處理影像類的資料，就讓我們來看看，同樣的訓練條件，CNN 是否顯著優於 DNN 呢?"
   ]
  },
  {
   "cell_type": "code",
   "execution_count": 6,
   "metadata": {},
   "outputs": [
    {
     "name": "stdout",
     "output_type": "stream",
     "text": [
      "x_train shape: (50000, 32, 32, 3)\n",
      "50000 train samples\n",
      "10000 test samples\n"
     ]
    }
   ],
   "source": [
    "(x_train, y_train), (x_test, y_test) = cifar10.load_data()\n",
    "print('x_train shape:', x_train.shape)\n",
    "print(x_train.shape[0], 'train samples')\n",
    "print(x_test.shape[0], 'test samples')\n",
    "x_train = x_train.astype('float32')\n",
    "x_test = x_test.astype('float32')\n",
    "x_train /= 255\n",
    "x_test /= 255\n",
    "\n",
    "# Convert class vectors to binary class matrices.\n",
    "y_train = np_utils.to_categorical(y_train, num_classes)\n",
    "y_test = np_utils.to_categorical(y_test, num_classes)"
   ]
  },
  {
   "cell_type": "code",
   "execution_count": 7,
   "metadata": {},
   "outputs": [
    {
     "name": "stdout",
     "output_type": "stream",
     "text": [
      "Model: \"sequential_1\"\n",
      "_________________________________________________________________\n",
      " Layer (type)                Output Shape              Param #   \n",
      "=================================================================\n",
      " conv2d (Conv2D)             (None, 32, 32, 32)        896       \n",
      "                                                                 \n",
      " activation (Activation)     (None, 32, 32, 32)        0         \n",
      "                                                                 \n",
      " conv2d_1 (Conv2D)           (None, 30, 30, 32)        9248      \n",
      "                                                                 \n",
      " activation_1 (Activation)   (None, 30, 30, 32)        0         \n",
      "                                                                 \n",
      " max_pooling2d (MaxPooling2D  (None, 15, 15, 32)       0         \n",
      " )                                                               \n",
      "                                                                 \n",
      " dropout_2 (Dropout)         (None, 15, 15, 32)        0         \n",
      "                                                                 \n",
      " conv2d_2 (Conv2D)           (None, 15, 15, 64)        18496     \n",
      "                                                                 \n",
      " activation_2 (Activation)   (None, 15, 15, 64)        0         \n",
      "                                                                 \n",
      " conv2d_3 (Conv2D)           (None, 13, 13, 64)        36928     \n",
      "                                                                 \n",
      " activation_3 (Activation)   (None, 13, 13, 64)        0         \n",
      "                                                                 \n",
      " max_pooling2d_1 (MaxPooling  (None, 6, 6, 64)         0         \n",
      " 2D)                                                             \n",
      "                                                                 \n",
      " dropout_3 (Dropout)         (None, 6, 6, 64)          0         \n",
      "                                                                 \n",
      " flatten (Flatten)           (None, 2304)              0         \n",
      "                                                                 \n",
      " dense_3 (Dense)             (None, 512)               1180160   \n",
      "                                                                 \n",
      " activation_4 (Activation)   (None, 512)               0         \n",
      "                                                                 \n",
      " dropout_4 (Dropout)         (None, 512)               0         \n",
      "                                                                 \n",
      " dense_4 (Dense)             (None, 10)                5130      \n",
      "                                                                 \n",
      " activation_5 (Activation)   (None, 10)                0         \n",
      "                                                                 \n",
      "=================================================================\n",
      "Total params: 1,250,858\n",
      "Trainable params: 1,250,858\n",
      "Non-trainable params: 0\n",
      "_________________________________________________________________\n",
      "Epoch 1/10\n",
      "391/391 [==============================] - 84s 213ms/step - loss: 1.7336 - accuracy: 0.3739 - val_loss: 1.3766 - val_accuracy: 0.5274\n",
      "Epoch 2/10\n",
      "391/391 [==============================] - 91s 233ms/step - loss: 1.2912 - accuracy: 0.5430 - val_loss: 1.1133 - val_accuracy: 0.6007\n",
      "Epoch 3/10\n",
      "391/391 [==============================] - 84s 214ms/step - loss: 1.0998 - accuracy: 0.6157 - val_loss: 0.9329 - val_accuracy: 0.6743\n",
      "Epoch 4/10\n",
      "391/391 [==============================] - 85s 216ms/step - loss: 0.9581 - accuracy: 0.6648 - val_loss: 0.8533 - val_accuracy: 0.7020\n",
      "Epoch 5/10\n",
      "391/391 [==============================] - 87s 222ms/step - loss: 0.8713 - accuracy: 0.6976 - val_loss: 0.8329 - val_accuracy: 0.7070\n",
      "Epoch 6/10\n",
      "391/391 [==============================] - 83s 213ms/step - loss: 0.8072 - accuracy: 0.7215 - val_loss: 0.7928 - val_accuracy: 0.7251\n",
      "Epoch 7/10\n",
      "391/391 [==============================] - 81s 208ms/step - loss: 0.7519 - accuracy: 0.7410 - val_loss: 0.7875 - val_accuracy: 0.7325\n",
      "Epoch 8/10\n",
      "391/391 [==============================] - 81s 206ms/step - loss: 0.7111 - accuracy: 0.7540 - val_loss: 0.7570 - val_accuracy: 0.7417\n",
      "Epoch 9/10\n",
      "391/391 [==============================] - 80s 205ms/step - loss: 0.6812 - accuracy: 0.7654 - val_loss: 0.9564 - val_accuracy: 0.6952\n",
      "Epoch 10/10\n",
      "391/391 [==============================] - 80s 204ms/step - loss: 0.6510 - accuracy: 0.7750 - val_loss: 0.7456 - val_accuracy: 0.7494\n",
      "Test loss: 0.7456442713737488\n",
      "Test accuracy: 0.7494000196456909\n"
     ]
    }
   ],
   "source": [
    "model = Sequential()\n",
    "model.add(Conv2D(32, (3, 3), padding='same',\n",
    "                 input_shape=x_train.shape[1:]))\n",
    "model.add(Activation('relu'))\n",
    "model.add(Conv2D(32, (3, 3)))\n",
    "model.add(Activation('relu'))\n",
    "model.add(MaxPooling2D(pool_size=(2, 2)))\n",
    "model.add(Dropout(0.25))\n",
    "\n",
    "model.add(Conv2D(64, (3, 3), padding='same'))\n",
    "model.add(Activation('relu'))\n",
    "model.add(Conv2D(64, (3, 3)))\n",
    "model.add(Activation('relu'))\n",
    "model.add(MaxPooling2D(pool_size=(2, 2)))\n",
    "model.add(Dropout(0.25))\n",
    "\n",
    "model.add(Flatten())\n",
    "model.add(Dense(512))\n",
    "model.add(Activation('relu'))\n",
    "model.add(Dropout(0.5))\n",
    "model.add(Dense(num_classes))\n",
    "model.add(Activation('softmax'))\n",
    "model.summary()\n",
    "\n",
    "model.compile(loss='categorical_crossentropy',\n",
    "              optimizer=RMSprop(),\n",
    "              metrics=['accuracy'])\n",
    "\n",
    "history = model.fit(x_train, y_train,\n",
    "                    batch_size=batch_size,\n",
    "                    epochs=epochs,\n",
    "                    verbose=1,\n",
    "                    validation_data=(x_test, y_test))\n",
    "score = model.evaluate(x_test, y_test, verbose=0)\n",
    "print('Test loss:', score[0])\n",
    "print('Test accuracy:', score[1])"
   ]
  },
  {
   "cell_type": "markdown",
   "metadata": {},
   "source": [
    "## 同樣運算 10 個 epochs，但 CNN 在 test data 的準確率顯著優於 DNN!"
   ]
  },
  {
   "cell_type": "markdown",
   "metadata": {},
   "source": [
    "## 作業\n",
    "1. 請試著調整各個超參數，並說明那些超參數對於結果有明顯的影響?\n",
    "2. CNN 與 DNN 哪個模型的參數數量比較多? 造成參數的數量不同的原因在哪?"
   ]
  },
  {
   "cell_type": "markdown",
   "metadata": {},
   "source": [
    "1. batch_size 增加，loss 增加，accuracy 減少\n",
    "\n",
    "2. DNN 參數數量比較多，CNN 做卷積會減少 map 的 size，讓參數數量下降"
   ]
  },
  {
   "cell_type": "code",
   "execution_count": 8,
   "metadata": {},
   "outputs": [
    {
     "name": "stdout",
     "output_type": "stream",
     "text": [
      "Model: \"sequential_2\"\n",
      "_________________________________________________________________\n",
      " Layer (type)                Output Shape              Param #   \n",
      "=================================================================\n",
      " conv2d_4 (Conv2D)           (None, 32, 32, 32)        896       \n",
      "                                                                 \n",
      " activation_6 (Activation)   (None, 32, 32, 32)        0         \n",
      "                                                                 \n",
      " conv2d_5 (Conv2D)           (None, 30, 30, 32)        9248      \n",
      "                                                                 \n",
      " activation_7 (Activation)   (None, 30, 30, 32)        0         \n",
      "                                                                 \n",
      " max_pooling2d_2 (MaxPooling  (None, 15, 15, 32)       0         \n",
      " 2D)                                                             \n",
      "                                                                 \n",
      " dropout_5 (Dropout)         (None, 15, 15, 32)        0         \n",
      "                                                                 \n",
      " conv2d_6 (Conv2D)           (None, 15, 15, 64)        18496     \n",
      "                                                                 \n",
      " activation_8 (Activation)   (None, 15, 15, 64)        0         \n",
      "                                                                 \n",
      " conv2d_7 (Conv2D)           (None, 13, 13, 64)        36928     \n",
      "                                                                 \n",
      " activation_9 (Activation)   (None, 13, 13, 64)        0         \n",
      "                                                                 \n",
      " max_pooling2d_3 (MaxPooling  (None, 6, 6, 64)         0         \n",
      " 2D)                                                             \n",
      "                                                                 \n",
      " dropout_6 (Dropout)         (None, 6, 6, 64)          0         \n",
      "                                                                 \n",
      " flatten_1 (Flatten)         (None, 2304)              0         \n",
      "                                                                 \n",
      " dense_5 (Dense)             (None, 512)               1180160   \n",
      "                                                                 \n",
      " activation_10 (Activation)  (None, 512)               0         \n",
      "                                                                 \n",
      " dropout_7 (Dropout)         (None, 512)               0         \n",
      "                                                                 \n",
      " dense_6 (Dense)             (None, 10)                5130      \n",
      "                                                                 \n",
      " activation_11 (Activation)  (None, 10)                0         \n",
      "                                                                 \n",
      "=================================================================\n",
      "Total params: 1,250,858\n",
      "Trainable params: 1,250,858\n",
      "Non-trainable params: 0\n",
      "_________________________________________________________________\n",
      "Epoch 1/10\n",
      "196/196 [==============================] - 72s 364ms/step - loss: 1.8847 - accuracy: 0.3251 - val_loss: 1.5974 - val_accuracy: 0.4081\n",
      "Epoch 2/10\n",
      "196/196 [==============================] - 72s 369ms/step - loss: 1.4754 - accuracy: 0.4758 - val_loss: 1.4714 - val_accuracy: 0.4766\n",
      "Epoch 3/10\n",
      "196/196 [==============================] - 69s 353ms/step - loss: 1.2754 - accuracy: 0.5501 - val_loss: 1.1879 - val_accuracy: 0.5762\n",
      "Epoch 4/10\n",
      "196/196 [==============================] - 71s 362ms/step - loss: 1.1364 - accuracy: 0.6009 - val_loss: 1.0671 - val_accuracy: 0.6201\n",
      "Epoch 5/10\n",
      "196/196 [==============================] - 70s 357ms/step - loss: 1.0404 - accuracy: 0.6342 - val_loss: 0.9065 - val_accuracy: 0.6794\n",
      "Epoch 6/10\n",
      "196/196 [==============================] - 70s 358ms/step - loss: 0.9538 - accuracy: 0.6667 - val_loss: 0.9376 - val_accuracy: 0.6742\n",
      "Epoch 7/10\n",
      "196/196 [==============================] - 71s 362ms/step - loss: 0.8891 - accuracy: 0.6915 - val_loss: 0.8607 - val_accuracy: 0.7005\n",
      "Epoch 8/10\n",
      "196/196 [==============================] - 70s 357ms/step - loss: 0.8276 - accuracy: 0.7105 - val_loss: 0.7938 - val_accuracy: 0.7278\n",
      "Epoch 9/10\n",
      "196/196 [==============================] - 73s 374ms/step - loss: 0.7810 - accuracy: 0.7292 - val_loss: 0.7782 - val_accuracy: 0.7338\n",
      "Epoch 10/10\n",
      "196/196 [==============================] - 74s 377ms/step - loss: 0.7322 - accuracy: 0.7455 - val_loss: 0.8346 - val_accuracy: 0.7175\n",
      "Test loss: 0.8346288204193115\n",
      "Test accuracy: 0.7174999713897705\n"
     ]
    }
   ],
   "source": [
    "batch_size = 256\n",
    "\n",
    "model = Sequential()\n",
    "model.add(Conv2D(32, (3, 3), padding='same',\n",
    "                 input_shape=x_train.shape[1:]))\n",
    "model.add(Activation('relu'))\n",
    "model.add(Conv2D(32, (3, 3)))\n",
    "model.add(Activation('relu'))\n",
    "model.add(MaxPooling2D(pool_size=(2, 2)))\n",
    "model.add(Dropout(0.25))\n",
    "\n",
    "model.add(Conv2D(64, (3, 3), padding='same'))\n",
    "model.add(Activation('relu'))\n",
    "model.add(Conv2D(64, (3, 3)))\n",
    "model.add(Activation('relu'))\n",
    "model.add(MaxPooling2D(pool_size=(2, 2)))\n",
    "model.add(Dropout(0.25))\n",
    "\n",
    "model.add(Flatten())\n",
    "model.add(Dense(512))\n",
    "model.add(Activation('relu'))\n",
    "model.add(Dropout(0.5))\n",
    "model.add(Dense(num_classes))\n",
    "model.add(Activation('softmax'))\n",
    "model.summary()\n",
    "\n",
    "model.compile(loss='categorical_crossentropy',\n",
    "              optimizer=RMSprop(),\n",
    "              metrics=['accuracy'])\n",
    "\n",
    "history = model.fit(x_train, y_train,\n",
    "                    batch_size=batch_size,\n",
    "                    epochs=epochs,\n",
    "                    verbose=1,\n",
    "                    validation_data=(x_test, y_test))\n",
    "score = model.evaluate(x_test, y_test, verbose=0)\n",
    "print('Test loss:', score[0])\n",
    "print('Test accuracy:', score[1])"
   ]
  },
  {
   "cell_type": "code",
   "execution_count": null,
   "metadata": {},
   "outputs": [],
   "source": []
  }
 ],
 "metadata": {
  "kernelspec": {
   "display_name": "Python 3 (ipykernel)",
   "language": "python",
   "name": "python3"
  },
  "language_info": {
   "codemirror_mode": {
    "name": "ipython",
    "version": 3
   },
   "file_extension": ".py",
   "mimetype": "text/x-python",
   "name": "python",
   "nbconvert_exporter": "python",
   "pygments_lexer": "ipython3",
   "version": "3.9.7"
  }
 },
 "nbformat": 4,
 "nbformat_minor": 2
}
