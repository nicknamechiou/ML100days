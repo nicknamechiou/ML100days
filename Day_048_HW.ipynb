{
 "cells": [
  {
   "cell_type": "code",
   "execution_count": 26,
   "metadata": {
    "_cell_guid": "b1076dfc-b9ad-4769-8c92-a6c4dae69d19",
    "_uuid": "8f2839f25d086af736a60e9eeb907d3b93b6e0e5",
    "execution": {
     "iopub.execute_input": "2021-08-01T07:42:29.120959Z",
     "iopub.status.busy": "2021-08-01T07:42:29.120595Z",
     "iopub.status.idle": "2021-08-01T07:42:29.132867Z",
     "shell.execute_reply": "2021-08-01T07:42:29.131670Z",
     "shell.execute_reply.started": "2021-08-01T07:42:29.120915Z"
    }
   },
   "outputs": [],
   "source": [
    "# This Python 3 environment comes with many helpful analytics libraries installed\n",
    "# It is defined by the kaggle/python Docker image: https://github.com/kaggle/docker-python\n",
    "# For example, here's several helpful packages to load\n",
    "\n",
    "import numpy as np # linear algebra\n",
    "import pandas as pd # data processing, CSV file I/O (e.g. pd.read_csv)\n",
    "\n",
    "# Input data files are available in the read-only \"../input/\" directory\n",
    "# For example, running this (by clicking run or pressing Shift+Enter) will list all files under the input directory\n",
    "\n",
    "import os\n",
    "for dirname, _, filenames in os.walk('/kaggle/input'):\n",
    "    for filename in filenames:\n",
    "        print(os.path.join(dirname, filename))\n",
    "\n",
    "# You can write up to 20GB to the current directory (/kaggle/working/) that gets preserved as output when you create a version using \"Save & Run All\" \n",
    "# You can also write temporary files to /kaggle/temp/, but they won't be saved outside of the current session"
   ]
  },
  {
   "cell_type": "code",
   "execution_count": 27,
   "metadata": {
    "execution": {
     "iopub.execute_input": "2021-08-01T07:42:29.792102Z",
     "iopub.status.busy": "2021-08-01T07:42:29.791705Z",
     "iopub.status.idle": "2021-08-01T07:42:29.799311Z",
     "shell.execute_reply": "2021-08-01T07:42:29.797677Z",
     "shell.execute_reply.started": "2021-08-01T07:42:29.792070Z"
    }
   },
   "outputs": [],
   "source": [
    "## import libraries\n",
    "\n",
    "## Visualization\n",
    "import matplotlib.pyplot as plt\n",
    "import seaborn as sns\n",
    "\n",
    "## Machine Learning\n",
    "from sklearn.ensemble import RandomForestClassifier\n",
    "from sklearn.neighbors import KNeighborsClassifier\n",
    "from sklearn.svm import SVC\n",
    "from sklearn.mixture import GaussianMixture\n",
    "\n",
    "from sklearn.model_selection import train_test_split\n",
    "from sklearn.model_selection import GridSearchCV\n",
    "\n",
    "## Evaluation\n",
    "from sklearn.metrics import accuracy_score\n",
    "\n",
    "## Interface: https://blog.konghy.cn/2017/12/16/python-warnings/\n",
    "import warnings\n",
    "warnings.filterwarnings('ignore')"
   ]
  },
  {
   "cell_type": "code",
   "execution_count": 29,
   "metadata": {
    "execution": {
     "iopub.execute_input": "2021-08-01T07:42:30.355844Z",
     "iopub.status.busy": "2021-08-01T07:42:30.355456Z",
     "iopub.status.idle": "2021-08-01T07:42:30.514803Z",
     "shell.execute_reply": "2021-08-01T07:42:30.513742Z",
     "shell.execute_reply.started": "2021-08-01T07:42:30.355813Z"
    }
   },
   "outputs": [],
   "source": [
    "## import datasets\n",
    "train = pd.read_csv('./day048/train.csv')\n",
    "test = pd.read_csv('./day048/test.csv')\n",
    "train_label = pd.read_csv('./day048/trainLabels.csv')"
   ]
  },
  {
   "cell_type": "code",
   "execution_count": 30,
   "metadata": {
    "execution": {
     "iopub.execute_input": "2021-08-01T07:42:30.936517Z",
     "iopub.status.busy": "2021-08-01T07:42:30.936056Z",
     "iopub.status.idle": "2021-08-01T07:42:30.968414Z",
     "shell.execute_reply": "2021-08-01T07:42:30.967268Z",
     "shell.execute_reply.started": "2021-08-01T07:42:30.936473Z"
    }
   },
   "outputs": [
    {
     "name": "stdout",
     "output_type": "stream",
     "text": [
      "(999, 40)\n",
      "(8999, 40)\n",
      "(999, 1)\n"
     ]
    },
    {
     "data": {
      "text/html": [
       "<div>\n",
       "<style scoped>\n",
       "    .dataframe tbody tr th:only-of-type {\n",
       "        vertical-align: middle;\n",
       "    }\n",
       "\n",
       "    .dataframe tbody tr th {\n",
       "        vertical-align: top;\n",
       "    }\n",
       "\n",
       "    .dataframe thead th {\n",
       "        text-align: right;\n",
       "    }\n",
       "</style>\n",
       "<table border=\"1\" class=\"dataframe\">\n",
       "  <thead>\n",
       "    <tr style=\"text-align: right;\">\n",
       "      <th></th>\n",
       "      <th>0.29940251144353242</th>\n",
       "      <th>-1.2266241875260637</th>\n",
       "      <th>1.4984250500215328</th>\n",
       "      <th>-1.1761503610375272</th>\n",
       "      <th>5.2898525545597037</th>\n",
       "      <th>0.20829711393323402</th>\n",
       "      <th>2.4044983672405826</th>\n",
       "      <th>1.5945062220589785</th>\n",
       "      <th>-0.051608163273514231</th>\n",
       "      <th>0.66323431039687908</th>\n",
       "      <th>...</th>\n",
       "      <th>-0.85046544625016463</th>\n",
       "      <th>-0.62298999638261954</th>\n",
       "      <th>-1.8330573433160038</th>\n",
       "      <th>0.29302438506869571</th>\n",
       "      <th>3.5526813410266507</th>\n",
       "      <th>0.71761099417552265</th>\n",
       "      <th>3.3059719748508889</th>\n",
       "      <th>-2.7155588147154619</th>\n",
       "      <th>-2.6824085866346223</th>\n",
       "      <th>0.10105047232890663</th>\n",
       "    </tr>\n",
       "  </thead>\n",
       "  <tbody>\n",
       "    <tr>\n",
       "      <th>0</th>\n",
       "      <td>-1.174176</td>\n",
       "      <td>0.332157</td>\n",
       "      <td>0.949919</td>\n",
       "      <td>-1.285328</td>\n",
       "      <td>2.199061</td>\n",
       "      <td>-0.151268</td>\n",
       "      <td>-0.427039</td>\n",
       "      <td>2.619246</td>\n",
       "      <td>-0.765884</td>\n",
       "      <td>-0.093780</td>\n",
       "      <td>...</td>\n",
       "      <td>-0.819750</td>\n",
       "      <td>0.012037</td>\n",
       "      <td>2.038836</td>\n",
       "      <td>0.468579</td>\n",
       "      <td>-0.517657</td>\n",
       "      <td>0.422326</td>\n",
       "      <td>0.803699</td>\n",
       "      <td>1.213219</td>\n",
       "      <td>1.382932</td>\n",
       "      <td>-1.817761</td>\n",
       "    </tr>\n",
       "    <tr>\n",
       "      <th>1</th>\n",
       "      <td>1.192222</td>\n",
       "      <td>-0.414371</td>\n",
       "      <td>0.067054</td>\n",
       "      <td>-2.233568</td>\n",
       "      <td>3.658881</td>\n",
       "      <td>0.089007</td>\n",
       "      <td>0.203439</td>\n",
       "      <td>-4.219054</td>\n",
       "      <td>-1.184919</td>\n",
       "      <td>-1.240310</td>\n",
       "      <td>...</td>\n",
       "      <td>-0.604501</td>\n",
       "      <td>0.750054</td>\n",
       "      <td>-3.360521</td>\n",
       "      <td>0.856988</td>\n",
       "      <td>-2.751451</td>\n",
       "      <td>-1.582735</td>\n",
       "      <td>1.672246</td>\n",
       "      <td>0.656438</td>\n",
       "      <td>-0.932473</td>\n",
       "      <td>2.987436</td>\n",
       "    </tr>\n",
       "    <tr>\n",
       "      <th>2</th>\n",
       "      <td>1.573270</td>\n",
       "      <td>-0.580318</td>\n",
       "      <td>-0.866332</td>\n",
       "      <td>-0.603812</td>\n",
       "      <td>3.125716</td>\n",
       "      <td>0.870321</td>\n",
       "      <td>-0.161992</td>\n",
       "      <td>4.499666</td>\n",
       "      <td>1.038741</td>\n",
       "      <td>-1.092716</td>\n",
       "      <td>...</td>\n",
       "      <td>1.022959</td>\n",
       "      <td>1.275598</td>\n",
       "      <td>-3.480110</td>\n",
       "      <td>-1.065252</td>\n",
       "      <td>2.153133</td>\n",
       "      <td>1.563539</td>\n",
       "      <td>2.767117</td>\n",
       "      <td>0.215748</td>\n",
       "      <td>0.619645</td>\n",
       "      <td>1.883397</td>\n",
       "    </tr>\n",
       "    <tr>\n",
       "      <th>3</th>\n",
       "      <td>-0.613071</td>\n",
       "      <td>-0.644204</td>\n",
       "      <td>1.112558</td>\n",
       "      <td>-0.032397</td>\n",
       "      <td>3.490142</td>\n",
       "      <td>-0.011935</td>\n",
       "      <td>1.443521</td>\n",
       "      <td>-4.290282</td>\n",
       "      <td>-1.761308</td>\n",
       "      <td>0.807652</td>\n",
       "      <td>...</td>\n",
       "      <td>0.513906</td>\n",
       "      <td>-1.803473</td>\n",
       "      <td>0.518579</td>\n",
       "      <td>-0.205029</td>\n",
       "      <td>-4.744566</td>\n",
       "      <td>-1.520015</td>\n",
       "      <td>1.830651</td>\n",
       "      <td>0.870772</td>\n",
       "      <td>-1.894609</td>\n",
       "      <td>0.408332</td>\n",
       "    </tr>\n",
       "    <tr>\n",
       "      <th>4</th>\n",
       "      <td>-0.773247</td>\n",
       "      <td>-0.123227</td>\n",
       "      <td>0.047423</td>\n",
       "      <td>-0.210266</td>\n",
       "      <td>10.377793</td>\n",
       "      <td>0.526604</td>\n",
       "      <td>-2.751616</td>\n",
       "      <td>0.315541</td>\n",
       "      <td>0.608603</td>\n",
       "      <td>-0.043421</td>\n",
       "      <td>...</td>\n",
       "      <td>-1.487714</td>\n",
       "      <td>0.792790</td>\n",
       "      <td>-0.540711</td>\n",
       "      <td>0.114115</td>\n",
       "      <td>-0.277477</td>\n",
       "      <td>-0.896411</td>\n",
       "      <td>-2.805207</td>\n",
       "      <td>0.469162</td>\n",
       "      <td>3.614157</td>\n",
       "      <td>0.081689</td>\n",
       "    </tr>\n",
       "  </tbody>\n",
       "</table>\n",
       "<p>5 rows × 40 columns</p>\n",
       "</div>"
      ],
      "text/plain": [
       "   0.29940251144353242  -1.2266241875260637  1.4984250500215328  \\\n",
       "0            -1.174176             0.332157            0.949919   \n",
       "1             1.192222            -0.414371            0.067054   \n",
       "2             1.573270            -0.580318           -0.866332   \n",
       "3            -0.613071            -0.644204            1.112558   \n",
       "4            -0.773247            -0.123227            0.047423   \n",
       "\n",
       "   -1.1761503610375272  5.2898525545597037  0.20829711393323402  \\\n",
       "0            -1.285328            2.199061            -0.151268   \n",
       "1            -2.233568            3.658881             0.089007   \n",
       "2            -0.603812            3.125716             0.870321   \n",
       "3            -0.032397            3.490142            -0.011935   \n",
       "4            -0.210266           10.377793             0.526604   \n",
       "\n",
       "   2.4044983672405826  1.5945062220589785  -0.051608163273514231  \\\n",
       "0           -0.427039            2.619246              -0.765884   \n",
       "1            0.203439           -4.219054              -1.184919   \n",
       "2           -0.161992            4.499666               1.038741   \n",
       "3            1.443521           -4.290282              -1.761308   \n",
       "4           -2.751616            0.315541               0.608603   \n",
       "\n",
       "   0.66323431039687908  ...  -0.85046544625016463  -0.62298999638261954  \\\n",
       "0            -0.093780  ...             -0.819750              0.012037   \n",
       "1            -1.240310  ...             -0.604501              0.750054   \n",
       "2            -1.092716  ...              1.022959              1.275598   \n",
       "3             0.807652  ...              0.513906             -1.803473   \n",
       "4            -0.043421  ...             -1.487714              0.792790   \n",
       "\n",
       "   -1.8330573433160038  0.29302438506869571  3.5526813410266507  \\\n",
       "0             2.038836             0.468579           -0.517657   \n",
       "1            -3.360521             0.856988           -2.751451   \n",
       "2            -3.480110            -1.065252            2.153133   \n",
       "3             0.518579            -0.205029           -4.744566   \n",
       "4            -0.540711             0.114115           -0.277477   \n",
       "\n",
       "   0.71761099417552265  3.3059719748508889  -2.7155588147154619  \\\n",
       "0             0.422326            0.803699             1.213219   \n",
       "1            -1.582735            1.672246             0.656438   \n",
       "2             1.563539            2.767117             0.215748   \n",
       "3            -1.520015            1.830651             0.870772   \n",
       "4            -0.896411           -2.805207             0.469162   \n",
       "\n",
       "   -2.6824085866346223  0.10105047232890663  \n",
       "0             1.382932            -1.817761  \n",
       "1            -0.932473             2.987436  \n",
       "2             0.619645             1.883397  \n",
       "3            -1.894609             0.408332  \n",
       "4             3.614157             0.081689  \n",
       "\n",
       "[5 rows x 40 columns]"
      ]
     },
     "execution_count": 30,
     "metadata": {},
     "output_type": "execute_result"
    }
   ],
   "source": [
    "print(train.shape)\n",
    "# 下載的測試資料應該要為(9000, 40)\n",
    "print(test.shape)\n",
    "print(train_label.shape)\n",
    "train.head()"
   ]
  },
  {
   "cell_type": "code",
   "execution_count": 5,
   "metadata": {
    "execution": {
     "iopub.execute_input": "2021-08-01T07:42:31.501175Z",
     "iopub.status.busy": "2021-08-01T07:42:31.500764Z",
     "iopub.status.idle": "2021-08-01T07:42:31.626582Z",
     "shell.execute_reply": "2021-08-01T07:42:31.625436Z",
     "shell.execute_reply.started": "2021-08-01T07:42:31.501123Z"
    }
   },
   "outputs": [
    {
     "data": {
      "text/html": [
       "<div>\n",
       "<style scoped>\n",
       "    .dataframe tbody tr th:only-of-type {\n",
       "        vertical-align: middle;\n",
       "    }\n",
       "\n",
       "    .dataframe tbody tr th {\n",
       "        vertical-align: top;\n",
       "    }\n",
       "\n",
       "    .dataframe thead th {\n",
       "        text-align: right;\n",
       "    }\n",
       "</style>\n",
       "<table border=\"1\" class=\"dataframe\">\n",
       "  <thead>\n",
       "    <tr style=\"text-align: right;\">\n",
       "      <th></th>\n",
       "      <th>0.29940251144353242</th>\n",
       "      <th>-1.2266241875260637</th>\n",
       "      <th>1.4984250500215328</th>\n",
       "      <th>-1.1761503610375272</th>\n",
       "      <th>5.2898525545597037</th>\n",
       "      <th>0.20829711393323402</th>\n",
       "      <th>2.4044983672405826</th>\n",
       "      <th>1.5945062220589785</th>\n",
       "      <th>-0.051608163273514231</th>\n",
       "      <th>0.66323431039687908</th>\n",
       "      <th>...</th>\n",
       "      <th>-0.85046544625016463</th>\n",
       "      <th>-0.62298999638261954</th>\n",
       "      <th>-1.8330573433160038</th>\n",
       "      <th>0.29302438506869571</th>\n",
       "      <th>3.5526813410266507</th>\n",
       "      <th>0.71761099417552265</th>\n",
       "      <th>3.3059719748508889</th>\n",
       "      <th>-2.7155588147154619</th>\n",
       "      <th>-2.6824085866346223</th>\n",
       "      <th>0.10105047232890663</th>\n",
       "    </tr>\n",
       "  </thead>\n",
       "  <tbody>\n",
       "    <tr>\n",
       "      <th>count</th>\n",
       "      <td>999.000000</td>\n",
       "      <td>999.000000</td>\n",
       "      <td>999.000000</td>\n",
       "      <td>999.000000</td>\n",
       "      <td>999.000000</td>\n",
       "      <td>999.000000</td>\n",
       "      <td>999.000000</td>\n",
       "      <td>999.000000</td>\n",
       "      <td>999.000000</td>\n",
       "      <td>999.000000</td>\n",
       "      <td>...</td>\n",
       "      <td>999.000000</td>\n",
       "      <td>999.000000</td>\n",
       "      <td>999.000000</td>\n",
       "      <td>999.000000</td>\n",
       "      <td>999.000000</td>\n",
       "      <td>999.000000</td>\n",
       "      <td>999.000000</td>\n",
       "      <td>999.000000</td>\n",
       "      <td>999.000000</td>\n",
       "      <td>999.000000</td>\n",
       "    </tr>\n",
       "    <tr>\n",
       "      <th>mean</th>\n",
       "      <td>0.025322</td>\n",
       "      <td>-0.023323</td>\n",
       "      <td>-0.025612</td>\n",
       "      <td>-0.001096</td>\n",
       "      <td>1.088127</td>\n",
       "      <td>-0.006465</td>\n",
       "      <td>0.495433</td>\n",
       "      <td>-0.039517</td>\n",
       "      <td>0.026469</td>\n",
       "      <td>-0.004264</td>\n",
       "      <td>...</td>\n",
       "      <td>0.031533</td>\n",
       "      <td>0.023598</td>\n",
       "      <td>-0.541199</td>\n",
       "      <td>-0.011913</td>\n",
       "      <td>-0.487548</td>\n",
       "      <td>0.032686</td>\n",
       "      <td>0.564443</td>\n",
       "      <td>0.009574</td>\n",
       "      <td>-0.890867</td>\n",
       "      <td>0.609960</td>\n",
       "    </tr>\n",
       "    <tr>\n",
       "      <th>std</th>\n",
       "      <td>1.008750</td>\n",
       "      <td>1.016094</td>\n",
       "      <td>0.978412</td>\n",
       "      <td>0.970349</td>\n",
       "      <td>4.539161</td>\n",
       "      <td>0.989601</td>\n",
       "      <td>2.119020</td>\n",
       "      <td>2.232776</td>\n",
       "      <td>1.001562</td>\n",
       "      <td>1.013808</td>\n",
       "      <td>...</td>\n",
       "      <td>1.011767</td>\n",
       "      <td>1.001668</td>\n",
       "      <td>2.240688</td>\n",
       "      <td>1.022922</td>\n",
       "      <td>2.118491</td>\n",
       "      <td>1.007316</td>\n",
       "      <td>2.227304</td>\n",
       "      <td>0.994404</td>\n",
       "      <td>2.022240</td>\n",
       "      <td>2.046400</td>\n",
       "    </tr>\n",
       "    <tr>\n",
       "      <th>min</th>\n",
       "      <td>-3.365711</td>\n",
       "      <td>-3.492086</td>\n",
       "      <td>-2.695602</td>\n",
       "      <td>-3.460471</td>\n",
       "      <td>-16.421901</td>\n",
       "      <td>-3.041250</td>\n",
       "      <td>-7.224761</td>\n",
       "      <td>-6.509084</td>\n",
       "      <td>-3.145588</td>\n",
       "      <td>-2.749812</td>\n",
       "      <td>...</td>\n",
       "      <td>-3.379194</td>\n",
       "      <td>-2.971125</td>\n",
       "      <td>-7.840890</td>\n",
       "      <td>-2.999564</td>\n",
       "      <td>-7.124105</td>\n",
       "      <td>-2.952358</td>\n",
       "      <td>-5.452254</td>\n",
       "      <td>-3.473913</td>\n",
       "      <td>-8.051722</td>\n",
       "      <td>-7.799086</td>\n",
       "    </tr>\n",
       "    <tr>\n",
       "      <th>25%</th>\n",
       "      <td>-0.670358</td>\n",
       "      <td>-0.690859</td>\n",
       "      <td>-0.700048</td>\n",
       "      <td>-0.616548</td>\n",
       "      <td>-1.805683</td>\n",
       "      <td>-0.733114</td>\n",
       "      <td>-0.839542</td>\n",
       "      <td>-1.607010</td>\n",
       "      <td>-0.680114</td>\n",
       "      <td>-0.682246</td>\n",
       "      <td>...</td>\n",
       "      <td>-0.659295</td>\n",
       "      <td>-0.696257</td>\n",
       "      <td>-2.123069</td>\n",
       "      <td>-0.664966</td>\n",
       "      <td>-1.880040</td>\n",
       "      <td>-0.643513</td>\n",
       "      <td>-1.060154</td>\n",
       "      <td>-0.689890</td>\n",
       "      <td>-2.214672</td>\n",
       "      <td>-0.565156</td>\n",
       "    </tr>\n",
       "    <tr>\n",
       "      <th>50%</th>\n",
       "      <td>0.023121</td>\n",
       "      <td>-0.031181</td>\n",
       "      <td>0.008037</td>\n",
       "      <td>0.003735</td>\n",
       "      <td>0.858932</td>\n",
       "      <td>0.025803</td>\n",
       "      <td>0.571475</td>\n",
       "      <td>0.017761</td>\n",
       "      <td>0.022855</td>\n",
       "      <td>-0.037531</td>\n",
       "      <td>...</td>\n",
       "      <td>0.049792</td>\n",
       "      <td>0.050187</td>\n",
       "      <td>-0.568168</td>\n",
       "      <td>-0.028179</td>\n",
       "      <td>-0.493701</td>\n",
       "      <td>0.036975</td>\n",
       "      <td>0.453544</td>\n",
       "      <td>0.038464</td>\n",
       "      <td>-0.853259</td>\n",
       "      <td>0.780175</td>\n",
       "    </tr>\n",
       "    <tr>\n",
       "      <th>75%</th>\n",
       "      <td>0.762980</td>\n",
       "      <td>0.683464</td>\n",
       "      <td>0.657948</td>\n",
       "      <td>0.640968</td>\n",
       "      <td>3.836911</td>\n",
       "      <td>0.671494</td>\n",
       "      <td>1.912284</td>\n",
       "      <td>1.436715</td>\n",
       "      <td>0.741949</td>\n",
       "      <td>0.666416</td>\n",
       "      <td>...</td>\n",
       "      <td>0.747815</td>\n",
       "      <td>0.700093</td>\n",
       "      <td>0.940334</td>\n",
       "      <td>0.651692</td>\n",
       "      <td>0.997741</td>\n",
       "      <td>0.690139</td>\n",
       "      <td>2.120006</td>\n",
       "      <td>0.693603</td>\n",
       "      <td>0.390982</td>\n",
       "      <td>1.994308</td>\n",
       "    </tr>\n",
       "    <tr>\n",
       "      <th>max</th>\n",
       "      <td>3.326246</td>\n",
       "      <td>3.583870</td>\n",
       "      <td>2.546507</td>\n",
       "      <td>3.088738</td>\n",
       "      <td>17.565345</td>\n",
       "      <td>3.102997</td>\n",
       "      <td>7.592666</td>\n",
       "      <td>7.130097</td>\n",
       "      <td>3.145258</td>\n",
       "      <td>3.919426</td>\n",
       "      <td>...</td>\n",
       "      <td>2.844792</td>\n",
       "      <td>3.688047</td>\n",
       "      <td>7.160379</td>\n",
       "      <td>3.353631</td>\n",
       "      <td>6.005818</td>\n",
       "      <td>3.420561</td>\n",
       "      <td>6.603499</td>\n",
       "      <td>3.492548</td>\n",
       "      <td>5.774120</td>\n",
       "      <td>6.803984</td>\n",
       "    </tr>\n",
       "  </tbody>\n",
       "</table>\n",
       "<p>8 rows × 40 columns</p>\n",
       "</div>"
      ],
      "text/plain": [
       "       0.29940251144353242  -1.2266241875260637  1.4984250500215328  \\\n",
       "count           999.000000           999.000000          999.000000   \n",
       "mean              0.025322            -0.023323           -0.025612   \n",
       "std               1.008750             1.016094            0.978412   \n",
       "min              -3.365711            -3.492086           -2.695602   \n",
       "25%              -0.670358            -0.690859           -0.700048   \n",
       "50%               0.023121            -0.031181            0.008037   \n",
       "75%               0.762980             0.683464            0.657948   \n",
       "max               3.326246             3.583870            2.546507   \n",
       "\n",
       "       -1.1761503610375272  5.2898525545597037  0.20829711393323402  \\\n",
       "count           999.000000          999.000000           999.000000   \n",
       "mean             -0.001096            1.088127            -0.006465   \n",
       "std               0.970349            4.539161             0.989601   \n",
       "min              -3.460471          -16.421901            -3.041250   \n",
       "25%              -0.616548           -1.805683            -0.733114   \n",
       "50%               0.003735            0.858932             0.025803   \n",
       "75%               0.640968            3.836911             0.671494   \n",
       "max               3.088738           17.565345             3.102997   \n",
       "\n",
       "       2.4044983672405826  1.5945062220589785  -0.051608163273514231  \\\n",
       "count          999.000000          999.000000             999.000000   \n",
       "mean             0.495433           -0.039517               0.026469   \n",
       "std              2.119020            2.232776               1.001562   \n",
       "min             -7.224761           -6.509084              -3.145588   \n",
       "25%             -0.839542           -1.607010              -0.680114   \n",
       "50%              0.571475            0.017761               0.022855   \n",
       "75%              1.912284            1.436715               0.741949   \n",
       "max              7.592666            7.130097               3.145258   \n",
       "\n",
       "       0.66323431039687908  ...  -0.85046544625016463  -0.62298999638261954  \\\n",
       "count           999.000000  ...            999.000000            999.000000   \n",
       "mean             -0.004264  ...              0.031533              0.023598   \n",
       "std               1.013808  ...              1.011767              1.001668   \n",
       "min              -2.749812  ...             -3.379194             -2.971125   \n",
       "25%              -0.682246  ...             -0.659295             -0.696257   \n",
       "50%              -0.037531  ...              0.049792              0.050187   \n",
       "75%               0.666416  ...              0.747815              0.700093   \n",
       "max               3.919426  ...              2.844792              3.688047   \n",
       "\n",
       "       -1.8330573433160038  0.29302438506869571  3.5526813410266507  \\\n",
       "count           999.000000           999.000000          999.000000   \n",
       "mean             -0.541199            -0.011913           -0.487548   \n",
       "std               2.240688             1.022922            2.118491   \n",
       "min              -7.840890            -2.999564           -7.124105   \n",
       "25%              -2.123069            -0.664966           -1.880040   \n",
       "50%              -0.568168            -0.028179           -0.493701   \n",
       "75%               0.940334             0.651692            0.997741   \n",
       "max               7.160379             3.353631            6.005818   \n",
       "\n",
       "       0.71761099417552265  3.3059719748508889  -2.7155588147154619  \\\n",
       "count           999.000000          999.000000           999.000000   \n",
       "mean              0.032686            0.564443             0.009574   \n",
       "std               1.007316            2.227304             0.994404   \n",
       "min              -2.952358           -5.452254            -3.473913   \n",
       "25%              -0.643513           -1.060154            -0.689890   \n",
       "50%               0.036975            0.453544             0.038464   \n",
       "75%               0.690139            2.120006             0.693603   \n",
       "max               3.420561            6.603499             3.492548   \n",
       "\n",
       "       -2.6824085866346223  0.10105047232890663  \n",
       "count           999.000000           999.000000  \n",
       "mean             -0.890867             0.609960  \n",
       "std               2.022240             2.046400  \n",
       "min              -8.051722            -7.799086  \n",
       "25%              -2.214672            -0.565156  \n",
       "50%              -0.853259             0.780175  \n",
       "75%               0.390982             1.994308  \n",
       "max               5.774120             6.803984  \n",
       "\n",
       "[8 rows x 40 columns]"
      ]
     },
     "execution_count": 5,
     "metadata": {},
     "output_type": "execute_result"
    }
   ],
   "source": [
    "## 統計資訊\n",
    "train.describe()"
   ]
  },
  {
   "cell_type": "code",
   "execution_count": 6,
   "metadata": {
    "execution": {
     "iopub.execute_input": "2021-08-01T07:42:32.059613Z",
     "iopub.status.busy": "2021-08-01T07:42:32.059223Z",
     "iopub.status.idle": "2021-08-01T07:42:32.077014Z",
     "shell.execute_reply": "2021-08-01T07:42:32.075592Z",
     "shell.execute_reply.started": "2021-08-01T07:42:32.059580Z"
    }
   },
   "outputs": [
    {
     "name": "stdout",
     "output_type": "stream",
     "text": [
      "<class 'pandas.core.frame.DataFrame'>\n",
      "RangeIndex: 999 entries, 0 to 998\n",
      "Data columns (total 40 columns):\n",
      " #   Column                 Non-Null Count  Dtype  \n",
      "---  ------                 --------------  -----  \n",
      " 0   0.29940251144353242    999 non-null    float64\n",
      " 1   -1.2266241875260637    999 non-null    float64\n",
      " 2   1.4984250500215328     999 non-null    float64\n",
      " 3   -1.1761503610375272    999 non-null    float64\n",
      " 4   5.2898525545597037     999 non-null    float64\n",
      " 5   0.20829711393323402    999 non-null    float64\n",
      " 6   2.4044983672405826     999 non-null    float64\n",
      " 7   1.5945062220589785     999 non-null    float64\n",
      " 8   -0.051608163273514231  999 non-null    float64\n",
      " 9   0.66323431039687908    999 non-null    float64\n",
      " 10  -1.4083700642531511    999 non-null    float64\n",
      " 11  1.1147436351160869     999 non-null    float64\n",
      " 12  0.91041530967390116    999 non-null    float64\n",
      " 13  2.2181103179158135     999 non-null    float64\n",
      " 14  4.3056427290235391     999 non-null    float64\n",
      " 15  0.088923978050666208   999 non-null    float64\n",
      " 16  0.1691492586690862     999 non-null    float64\n",
      " 17  0.41344763764684195    999 non-null    float64\n",
      " 18  1.5138621708864943     999 non-null    float64\n",
      " 19  2.6629665829474161     999 non-null    float64\n",
      " 20  -1.0727654812214888    999 non-null    float64\n",
      " 21  0.14911112051014644    999 non-null    float64\n",
      " 22  0.55957919164070269    999 non-null    float64\n",
      " 23  4.3788846423749064     999 non-null    float64\n",
      " 24  -0.4636026556416834    999 non-null    float64\n",
      " 25  -0.063959155289009084  999 non-null    float64\n",
      " 26  0.54493030536966891    999 non-null    float64\n",
      " 27  0.71277166708074502    999 non-null    float64\n",
      " 28  -1.4940501263538932    999 non-null    float64\n",
      " 29  -2.6361688752136554    999 non-null    float64\n",
      " 30  -0.85046544625016463   999 non-null    float64\n",
      " 31  -0.62298999638261954   999 non-null    float64\n",
      " 32  -1.8330573433160038    999 non-null    float64\n",
      " 33  0.29302438506869571    999 non-null    float64\n",
      " 34  3.5526813410266507     999 non-null    float64\n",
      " 35  0.71761099417552265    999 non-null    float64\n",
      " 36  3.3059719748508889     999 non-null    float64\n",
      " 37  -2.7155588147154619    999 non-null    float64\n",
      " 38  -2.6824085866346223    999 non-null    float64\n",
      " 39  0.10105047232890663    999 non-null    float64\n",
      "dtypes: float64(40)\n",
      "memory usage: 312.3 KB\n"
     ]
    }
   ],
   "source": [
    "train.info()"
   ]
  },
  {
   "cell_type": "code",
   "execution_count": 7,
   "metadata": {
    "execution": {
     "iopub.execute_input": "2021-08-01T07:44:08.530529Z",
     "iopub.status.busy": "2021-08-01T07:44:08.530154Z",
     "iopub.status.idle": "2021-08-01T07:44:08.538454Z",
     "shell.execute_reply": "2021-08-01T07:44:08.537282Z",
     "shell.execute_reply.started": "2021-08-01T07:44:08.530498Z"
    }
   },
   "outputs": [
    {
     "data": {
      "text/plain": [
       "array([0, 0, 1, 0, 1, 0, 1, 1, 0, 1, 0, 0, 0, 0, 1, 1, 0, 1, 0, 1, 0, 0,\n",
       "       1, 0, 1, 1, 1, 0, 1, 1, 1, 0, 1, 0, 1, 0, 1, 1, 1, 1, 1, 1, 1, 1,\n",
       "       0, 1, 0, 1, 0, 1, 0, 1, 0, 1, 1, 1, 0, 0, 0, 1, 1, 1, 1, 1, 1, 0,\n",
       "       0, 1, 1, 1, 1, 0, 0, 0, 1, 0, 1, 0, 1, 1, 1, 0, 1, 0, 0, 0, 1, 1,\n",
       "       1, 0, 1, 0, 1, 1, 1, 0, 0, 0, 0, 1, 0, 0, 1, 1, 1, 0, 1, 1, 1, 1,\n",
       "       0, 0, 0, 0, 0, 1, 1, 1, 0, 0, 0, 1, 0, 1, 0, 0, 0, 0, 0, 1, 1, 0,\n",
       "       0, 1, 0, 0, 1, 1, 0, 1, 1, 0, 1, 0, 0, 1, 0, 1, 1, 0, 0, 1, 1, 1,\n",
       "       0, 0, 0, 0, 1, 0, 0, 1, 0, 1, 0, 0, 1, 0, 1, 1, 1, 0, 1, 0, 1, 0,\n",
       "       1, 1, 1, 0, 0, 1, 1, 0, 0, 0, 1, 0, 1, 1, 0, 0, 0, 0, 0, 1, 0, 0,\n",
       "       0, 0, 0, 0, 0, 1, 1, 1, 0, 1, 1, 1, 1, 1, 0, 0, 1, 1, 1, 0, 1, 1,\n",
       "       0, 1, 0, 1, 0, 0, 1, 1, 0, 1, 1, 1, 1, 1, 1, 1, 0, 0, 1, 0, 0, 1,\n",
       "       0, 1, 0, 0, 0, 0, 1, 1, 0, 0, 0, 0, 1, 1, 1, 1, 0, 1, 0, 0, 0, 1,\n",
       "       0, 1, 1, 1, 0, 0, 0, 1, 0, 0, 0, 0, 0, 0, 0, 1, 0, 0, 0, 0, 0, 1,\n",
       "       0, 1, 0, 1, 1, 1, 0, 0, 0, 1, 1, 1, 1, 1, 1, 1, 1, 1, 0, 1, 0, 1,\n",
       "       0, 1, 1, 1, 1, 1, 0, 1, 0, 1, 1, 0, 0, 0, 1, 1, 0, 1, 1, 0, 1, 0,\n",
       "       0, 0, 1, 0, 0, 0, 1, 0, 0, 0, 1, 1, 1, 0, 0, 0, 1, 0, 0, 0, 1, 1,\n",
       "       0, 0, 0, 0, 1, 1, 1, 1, 0, 0, 1, 0, 0, 0, 0, 1, 1, 1, 1, 0, 1, 1,\n",
       "       0, 0, 0, 0, 1, 1, 1, 1, 1, 1, 1, 1, 1, 0, 1, 1, 0, 0, 1, 0, 1, 1,\n",
       "       0, 0, 1, 0, 1, 0, 1, 0, 0, 1, 0, 0, 1, 1, 0, 1, 1, 0, 1, 0, 1, 0,\n",
       "       1, 1, 1, 0, 1, 1, 1, 1, 1, 1, 0, 0, 1, 0, 1, 1, 0, 1, 1, 0, 1, 0,\n",
       "       0, 1, 1, 1, 1, 0, 0, 1, 0, 0, 0, 0, 1, 0, 1, 0, 1, 0, 0, 1, 0, 0,\n",
       "       0, 1, 1, 1, 1, 1, 0, 1, 0, 0, 1, 1, 0, 1, 1, 0, 1, 1, 0, 1, 0, 1,\n",
       "       1, 1, 0, 1, 0, 1, 0, 1, 0, 1, 1, 1, 1, 0, 1, 0, 1, 0, 1, 0, 0, 0,\n",
       "       0, 1, 1, 1, 0, 1, 1, 0, 0, 1, 1, 0, 0, 1, 0, 1, 1, 1, 0, 0, 0, 1,\n",
       "       1, 1, 0, 0, 0, 0, 1, 0, 0, 0, 1, 1, 0, 0, 0, 1, 0, 1, 1, 0, 1, 1,\n",
       "       0, 0, 0, 1, 1, 0, 0, 1, 1, 0, 1, 0, 1, 0, 0, 0, 0, 1, 1, 0, 0, 1,\n",
       "       1, 0, 0, 0, 1, 0, 0, 1, 0, 0, 1, 1, 0, 1, 0, 0, 0, 1, 1, 1, 1, 1,\n",
       "       1, 0, 0, 1, 1, 1, 1, 0, 0, 1, 0, 0, 1, 1, 1, 1, 0, 0, 1, 1, 0, 1,\n",
       "       1, 0, 0, 1, 1, 0, 0, 1, 1, 1, 1, 0, 0, 1, 1, 0, 1, 1, 0, 1, 1, 1,\n",
       "       0, 1, 0, 1, 1, 0, 0, 1, 0, 0, 1, 0, 1, 0, 0, 0, 1, 1, 1, 0, 0, 0,\n",
       "       1, 1, 0, 1, 0, 1, 1, 1, 1, 1, 1, 1, 0, 0, 1, 0, 1, 0, 1, 0, 0, 1,\n",
       "       0, 1, 1, 1, 0, 0, 0, 0, 1, 1, 1, 1, 1, 0, 1, 0, 0, 0, 0, 0, 0, 1,\n",
       "       0, 1, 1, 0, 0, 0, 0, 0, 1, 0, 0, 0, 0, 1, 1, 1, 0, 1, 1, 1, 1, 0,\n",
       "       0, 1, 1, 0, 1, 0, 1, 1, 0, 0, 0, 1, 1, 1, 0, 1, 0, 1, 0, 0, 0, 1,\n",
       "       1, 0, 0, 1, 0, 1, 1, 0, 1, 1, 1, 1, 0, 1, 0, 0, 0, 0, 1, 1, 1, 0,\n",
       "       0, 1, 1, 0, 1, 1, 1, 0, 0, 1, 1, 1, 1, 1, 0, 0, 1, 0, 1, 0, 0, 1,\n",
       "       1, 0, 0, 1, 1, 1, 0, 0, 0, 0, 0, 0, 0, 1, 1, 0, 0, 0, 0, 0, 1, 1,\n",
       "       1, 1, 0, 0, 0, 0, 1, 0, 0, 1, 1, 0, 0, 0, 0, 0, 0, 0, 0, 0, 1, 0,\n",
       "       0, 0, 0, 1, 1, 1, 0, 1, 1, 1, 1, 1, 0, 0, 0, 1, 0, 1, 0, 1, 0, 0,\n",
       "       0, 1, 1, 1, 1, 1, 0, 0, 0, 0, 1, 1, 1, 1, 1, 0, 0, 0, 1, 0, 0, 0,\n",
       "       0, 0, 0, 1, 1, 1, 0, 0, 1, 1, 0, 0, 0, 1, 1, 1, 0, 1, 1, 0, 1, 1,\n",
       "       0, 0, 1, 1, 0, 1, 0, 0, 1, 0, 1, 0, 0, 1, 1, 1, 1, 0, 0, 0, 1, 1,\n",
       "       0, 0, 0, 1, 1, 1, 1, 1, 0, 1, 1, 0, 0, 1, 1, 1, 0, 1, 1, 1, 1, 0,\n",
       "       0, 1, 1, 1, 0, 0, 0, 1, 0, 1, 0, 1, 0, 0, 0, 0, 1, 1, 0, 1, 1, 1,\n",
       "       0, 1, 0, 1, 1, 1, 1, 0, 0, 0, 0, 0, 1, 1, 0, 0, 0, 0, 0, 1, 0, 1,\n",
       "       1, 1, 1, 0, 0, 1, 1, 0, 0], dtype=int64)"
      ]
     },
     "execution_count": 7,
     "metadata": {},
     "output_type": "execute_result"
    }
   ],
   "source": [
    "## np.ravel: https://blog.csdn.net/tymatlab/article/details/79009618\n",
    "X, y = train, np.ravel(train_label)\n",
    "y"
   ]
  },
  {
   "cell_type": "code",
   "execution_count": 8,
   "metadata": {
    "execution": {
     "iopub.execute_input": "2021-08-01T07:44:11.810221Z",
     "iopub.status.busy": "2021-08-01T07:44:11.809806Z",
     "iopub.status.idle": "2021-08-01T07:44:11.818124Z",
     "shell.execute_reply": "2021-08-01T07:44:11.816505Z",
     "shell.execute_reply.started": "2021-08-01T07:44:11.810189Z"
    }
   },
   "outputs": [],
   "source": [
    "## 拆成訓練集和測試集\n",
    "X_train, X_test, y_train, y_test = train_test_split(X, y, test_size = 0.25, random_state=4)"
   ]
  },
  {
   "cell_type": "markdown",
   "metadata": {},
   "source": [
    "## KNN"
   ]
  },
  {
   "cell_type": "code",
   "execution_count": 9,
   "metadata": {
    "execution": {
     "iopub.execute_input": "2021-08-01T07:42:34.900376Z",
     "iopub.status.busy": "2021-08-01T07:42:34.899879Z",
     "iopub.status.idle": "2021-08-01T07:42:34.905325Z",
     "shell.execute_reply": "2021-08-01T07:42:34.904584Z",
     "shell.execute_reply.started": "2021-08-01T07:42:34.900266Z"
    }
   },
   "outputs": [],
   "source": [
    "algorithm = ['auto', 'ball_tree', 'brute']\n",
    "weights = ['uniform', 'distance']\n",
    "neig = range(1, 40)\n",
    "train_accuracy = []\n",
    "test_accuracy = []\n",
    "best_score = 0.0\n",
    "best_knn = None"
   ]
  },
  {
   "cell_type": "code",
   "execution_count": 10,
   "metadata": {
    "execution": {
     "iopub.execute_input": "2021-08-01T07:42:35.659482Z",
     "iopub.status.busy": "2021-08-01T07:42:35.659105Z",
     "iopub.status.idle": "2021-08-01T07:42:39.890024Z",
     "shell.execute_reply": "2021-08-01T07:42:39.889012Z",
     "shell.execute_reply.started": "2021-08-01T07:42:35.659451Z"
    }
   },
   "outputs": [
    {
     "name": "stdout",
     "output_type": "stream",
     "text": [
      "Train Score:  0.9052069425901201\n",
      "Test Score:  0.896\n",
      "KNeighborsClassifier(n_neighbors=13)\n"
     ]
    },
    {
     "data": {
      "image/png": "[encoded data removed]",
      "text/plain": [
       "<Figure size 1000x1000 with 1 Axes>"
      ]
     },
     "metadata": {},
     "output_type": "display_data"
    }
   ],
   "source": [
    "for k in neig:\n",
    "    KNN = KNeighborsClassifier(n_neighbors = k, algorithm = 'auto', weights = 'uniform')\n",
    "    KNN.fit(X_train, y_train)\n",
    "    y_pred = KNN.predict(X_test)\n",
    "    train_score = KNN.score(X_train, y_train)\n",
    "    test_score = accuracy_score(y_test, y_pred)\n",
    "    \n",
    "    train_accuracy.append(train_score)\n",
    "    test_accuracy.append(test_score)\n",
    "    \n",
    "    ## 找出最佳的準確度\n",
    "    if test_score > best_score:\n",
    "        best_score = test_score\n",
    "        best_knn = KNN\n",
    "    \n",
    "## 視覺化: 了解設定什麼k值有最佳的準確度\n",
    "plt.figure(figsize = (10, 10))\n",
    "plt.plot(neig, train_accuracy, c = 'red', label = 'Train Accuracy')\n",
    "plt.plot(neig, test_accuracy, c = 'blue', label = 'Test Accuracy')\n",
    "plt.title('number of neighbors vs accuracy')\n",
    "plt.xlabel('n neighbors amount')\n",
    "plt.ylabel('Accuracy')\n",
    "plt.legend()\n",
    "\n",
    "print('Train Score: ', best_knn.score(X_train, y_train))\n",
    "print('Test Score: ', best_score)\n",
    "print(best_knn)    "
   ]
  },
  {
   "cell_type": "markdown",
   "metadata": {},
   "source": [
    "## Random Forest"
   ]
  },
  {
   "cell_type": "code",
   "execution_count": 11,
   "metadata": {
    "execution": {
     "iopub.execute_input": "2021-08-01T07:42:39.891952Z",
     "iopub.status.busy": "2021-08-01T07:42:39.891607Z",
     "iopub.status.idle": "2021-08-01T07:43:45.676956Z",
     "shell.execute_reply": "2021-08-01T07:43:45.674998Z",
     "shell.execute_reply.started": "2021-08-01T07:42:39.891911Z"
    }
   },
   "outputs": [
    {
     "name": "stdout",
     "output_type": "stream",
     "text": [
      "Fitting 5 folds for each of 120 candidates, totalling 600 fits\n",
      "Best Accuracy: 0.870506 using {'max_depth': 20, 'min_samples_split': 5, 'n_estimators': 140}\n"
     ]
    }
   ],
   "source": [
    "clf = RandomForestClassifier(random_state = 10)\n",
    "n_estimators = [20, 30, 60, 90, 120, 140]\n",
    "max_depth = [1, 7, 10, 20, 40]\n",
    "split = [5, 10, 17, 20]\n",
    "\n",
    "param = dict(n_estimators = n_estimators, max_depth = max_depth, min_samples_split = split)\n",
    "\n",
    "grid_search = GridSearchCV(estimator = clf, param_grid = param, cv = 5, n_jobs = -1, verbose = 1)\n",
    "grid_result = grid_search.fit(X_train, y_train)\n",
    "\n",
    "y_pred = grid_result.predict(X_test)\n",
    "print(\"Best Accuracy: %f using %s\" % (grid_result.best_score_, grid_result.best_params_))"
   ]
  },
  {
   "cell_type": "code",
   "execution_count": 12,
   "metadata": {
    "execution": {
     "iopub.execute_input": "2021-08-01T07:43:45.679534Z",
     "iopub.status.busy": "2021-08-01T07:43:45.679176Z",
     "iopub.status.idle": "2021-08-01T07:43:45.720280Z",
     "shell.execute_reply": "2021-08-01T07:43:45.718999Z",
     "shell.execute_reply.started": "2021-08-01T07:43:45.679501Z"
    }
   },
   "outputs": [
    {
     "name": "stdout",
     "output_type": "stream",
     "text": [
      "Train Score:  1.0\n",
      "Test Score:  0.86\n"
     ]
    }
   ],
   "source": [
    "print('Train Score: ', grid_result.score(X_train, y_train))\n",
    "print('Test Score: ', accuracy_score(y_pred, y_test))"
   ]
  },
  {
   "cell_type": "markdown",
   "metadata": {},
   "source": [
    "## SVC Model"
   ]
  },
  {
   "cell_type": "code",
   "execution_count": 13,
   "metadata": {
    "execution": {
     "iopub.execute_input": "2021-08-01T07:43:45.722213Z",
     "iopub.status.busy": "2021-08-01T07:43:45.721871Z",
     "iopub.status.idle": "2021-08-01T07:43:45.831654Z",
     "shell.execute_reply": "2021-08-01T07:43:45.830529Z",
     "shell.execute_reply.started": "2021-08-01T07:43:45.722179Z"
    }
   },
   "outputs": [
    {
     "name": "stdout",
     "output_type": "stream",
     "text": [
      "Train Score:  0.8638184245660881\n",
      "Test Score:  0.812\n"
     ]
    }
   ],
   "source": [
    "kernel = ['linear', 'poly', 'rbf', 'sigmoid', 'precomputed']\n",
    "SVCModel = SVC(kernel = 'rbf', max_iter = 1000, C = 0.1)\n",
    "SVCModel.fit(X_train, y_train)\n",
    "y_pred = SVCModel.predict(X_test)\n",
    "print('Train Score: ', SVCModel.score(X_train, y_train))\n",
    "print('Test Score: ', accuracy_score(y_pred, y_test))\n"
   ]
  },
  {
   "cell_type": "code",
   "execution_count": 14,
   "metadata": {
    "execution": {
     "iopub.execute_input": "2021-08-01T07:43:45.833961Z",
     "iopub.status.busy": "2021-08-01T07:43:45.833324Z",
     "iopub.status.idle": "2021-08-01T07:43:45.843286Z",
     "shell.execute_reply": "2021-08-01T07:43:45.841876Z",
     "shell.execute_reply.started": "2021-08-01T07:43:45.833891Z"
    }
   },
   "outputs": [
    {
     "data": {
      "text/plain": [
       "(250,)"
      ]
     },
     "execution_count": 14,
     "metadata": {},
     "output_type": "execute_result"
    }
   ],
   "source": [
    "y_pred.shape"
   ]
  },
  {
   "cell_type": "markdown",
   "metadata": {},
   "source": [
    "## Gaussian Mixture Model\n",
    "https://ithelp.ithome.com.tw/articles/10195700\n",
    "https://ithelp.ithome.com.tw/articles/10206244"
   ]
  },
  {
   "cell_type": "code",
   "execution_count": 15,
   "metadata": {
    "execution": {
     "iopub.execute_input": "2021-08-01T07:50:12.767048Z",
     "iopub.status.busy": "2021-08-01T07:50:12.766622Z",
     "iopub.status.idle": "2021-08-01T07:50:12.872211Z",
     "shell.execute_reply": "2021-08-01T07:50:12.870921Z",
     "shell.execute_reply.started": "2021-08-01T07:50:12.767014Z"
    }
   },
   "outputs": [
    {
     "name": "stdout",
     "output_type": "stream",
     "text": [
      "(999, 29)\n",
      "(8999, 29)\n"
     ]
    }
   ],
   "source": [
    "from sklearn.decomposition import PCA\n",
    "from sklearn.mixture import GaussianMixture\n",
    "\n",
    "pca = PCA(0.95,whiten=True)\n",
    "train_pc = pca.fit_transform(train)\n",
    "test_pc = pca.transform(test)\n",
    "print(train_pc.shape)\n",
    "print(test_pc.shape)"
   ]
  },
  {
   "cell_type": "code",
   "execution_count": 16,
   "metadata": {
    "execution": {
     "iopub.execute_input": "2021-08-01T07:50:25.345979Z",
     "iopub.status.busy": "2021-08-01T07:50:25.345287Z",
     "iopub.status.idle": "2021-08-01T07:50:51.407839Z",
     "shell.execute_reply": "2021-08-01T07:50:51.406815Z",
     "shell.execute_reply.started": "2021-08-01T07:50:25.345921Z"
    }
   },
   "outputs": [
    {
     "data": {
      "image/png": "[encoded data removed]",
      "text/plain": [
       "<Figure size 640x480 with 1 Axes>"
      ]
     },
     "metadata": {},
     "output_type": "display_data"
    }
   ],
   "source": [
    "# Let's fit GMM with various number of components\n",
    "n_components = np.arange(1,11)\n",
    "models = [GaussianMixture(n, covariance_type='full', random_state=100) \n",
    "          for n in n_components]\n",
    "aics = [model.fit(train_pc).aic(train_pc) for model in models]\n",
    "bics = [model.fit(train_pc).bic(train_pc) for model in models]\n",
    "\n",
    "plt.plot(n_components, aics, label='AIC')\n",
    "plt.plot(n_components, bics, label='BIC')\n",
    "plt.xlabel('Number of Gaussians')\n",
    "plt.legend()\n",
    "plt.show()"
   ]
  },
  {
   "cell_type": "code",
   "execution_count": 17,
   "metadata": {
    "execution": {
     "iopub.execute_input": "2021-08-01T07:54:09.891323Z",
     "iopub.status.busy": "2021-08-01T07:54:09.890902Z",
     "iopub.status.idle": "2021-08-01T07:54:10.695161Z",
     "shell.execute_reply": "2021-08-01T07:54:10.692168Z",
     "shell.execute_reply.started": "2021-08-01T07:54:09.891287Z"
    }
   },
   "outputs": [
    {
     "name": "stdout",
     "output_type": "stream",
     "text": [
      "(999, 4)\n",
      "(8999, 4)\n"
     ]
    }
   ],
   "source": [
    "best_gmm = GaussianMixture(n_components=4, covariance_type='full').fit(train_pc)\n",
    "\n",
    "# Let's apply the model to get probabilities\n",
    "train_gmm = best_gmm.predict_proba(train_pc)\n",
    "test_gmm = best_gmm.predict_proba(test_pc)\n",
    "print(train_gmm.shape)\n",
    "print(test_gmm.shape)\n",
    "\n",
    "# Split the new data into train and validadtion set\n",
    "X_train_gmm, X_val_gmm, y_train_gmm, y_val_gmm = train_test_split(train_gmm, train_label, random_state=42, test_size=0.2)"
   ]
  },
  {
   "cell_type": "code",
   "execution_count": 18,
   "metadata": {
    "execution": {
     "iopub.execute_input": "2021-08-01T07:51:14.879074Z",
     "iopub.status.busy": "2021-08-01T07:51:14.878515Z",
     "iopub.status.idle": "2021-08-01T07:51:14.883350Z",
     "shell.execute_reply": "2021-08-01T07:51:14.882340Z",
     "shell.execute_reply.started": "2021-08-01T07:51:14.879041Z"
    }
   },
   "outputs": [
    {
     "name": "stdout",
     "output_type": "stream",
     "text": [
      "X shape:  (999, 40)\n",
      "\n",
      "\n",
      "149338.3790960519\n"
     ]
    }
   ],
   "source": [
    "print('X shape: ', X.shape)\n",
    "print('\\n')\n",
    "\n",
    "lowest_bic = np.infty\n",
    "bic = []\n",
    "\n",
    "cv_types = ['tied', 'full', 'diag', 'spherical']\n",
    "\n",
    "for ct in cv_types:\n",
    "    for n_components in range(1, 8):\n",
    "        gmm = GaussianMixture(n_components = n_components,covariance_type = ct)\n",
    "        gmm.fit(X)\n",
    "        bic.append(gmm.aic(X))\n",
    "        if bic[-1] < lowest_bic:\n",
    "            lowest_bic = bic[-1]\n",
    "            best_gmm = gmm\n",
    "best_gmm.fit(X)\n",
    "gmm_train = best_gmm.predict_proba(X_train)\n",
    "gmm_val = best_gmm.predict_proba(X_test)\n",
    "gmm_test = best_gmm.predict_proba(test)\n",
    "print(gmm.aic(X))"
   ]
  },
  {
   "cell_type": "code",
   "execution_count": 19,
   "metadata": {
    "execution": {
     "iopub.execute_input": "2021-08-01T07:54:12.321201Z",
     "iopub.status.busy": "2021-08-01T07:54:12.320748Z",
     "iopub.status.idle": "2021-08-01T07:54:12.325544Z",
     "shell.execute_reply": "2021-08-01T07:54:12.324697Z",
     "shell.execute_reply.started": "2021-08-01T07:54:12.321168Z"
    }
   },
   "outputs": [
    {
     "name": "stdout",
     "output_type": "stream",
     "text": [
      "gmm test:  (250, 4)\n",
      "gmm_train:  (749, 4)\n",
      "X train:  (749, 40)\n",
      "X test:  (250, 40)\n"
     ]
    }
   ],
   "source": [
    "print(\"gmm test: \", gmm_val.shape)\n",
    "print(\"gmm_train: \", gmm_train.shape)\n",
    "print(\"X train: \", X_train.shape)\n",
    "print('X test: ', X_test.shape)"
   ]
  },
  {
   "cell_type": "markdown",
   "metadata": {},
   "source": [
    "## 將Gaussian Mixture Model重新將數據集聚類的結果，再應用回KNN、RandomForest、SVC"
   ]
  },
  {
   "cell_type": "code",
   "execution_count": 20,
   "metadata": {
    "execution": {
     "iopub.execute_input": "2021-08-01T08:00:22.105148Z",
     "iopub.status.busy": "2021-08-01T08:00:22.104767Z",
     "iopub.status.idle": "2021-08-01T08:00:22.123437Z",
     "shell.execute_reply": "2021-08-01T08:00:22.121820Z",
     "shell.execute_reply.started": "2021-08-01T08:00:22.105118Z"
    }
   },
   "outputs": [
    {
     "name": "stdout",
     "output_type": "stream",
     "text": [
      "Train Score:  0.9937421777221527\n",
      "Test Score:  0.99\n"
     ]
    }
   ],
   "source": [
    "kernel = ['linear', 'poly', 'rbf', 'sigmoid', 'precomputed']\n",
    "SVCModel = SVC(kernel = 'rbf', max_iter = 1000, C = 0.1)\n",
    "SVCModel.fit(X_train_gmm, y_train_gmm)\n",
    "y_pred = SVCModel.predict(gmm_val)\n",
    "print('Train Score: ', SVCModel.score(X_train_gmm, y_train_gmm))\n",
    "print('Test Score: ', SVCModel.score(X_val_gmm, y_val_gmm))\n"
   ]
  },
  {
   "cell_type": "code",
   "execution_count": 21,
   "metadata": {
    "execution": {
     "iopub.execute_input": "2021-08-01T08:03:44.665094Z",
     "iopub.status.busy": "2021-08-01T08:03:44.664507Z",
     "iopub.status.idle": "2021-08-01T08:03:44.709320Z",
     "shell.execute_reply": "2021-08-01T08:03:44.708241Z",
     "shell.execute_reply.started": "2021-08-01T08:03:44.665061Z"
    }
   },
   "outputs": [],
   "source": [
    "SVCModel = SVC(kernel = 'rbf', max_iter = 1000, C = 0.1)\n",
    "SVCModel.fit(train_gmm, train_label)\n",
    "y_pred = SVCModel.predict(test_gmm)\n",
    "submission = {'Id': np.arange(1, y_pred.shape[0]+1), 'Solution': y_pred}\n",
    "submission = pd.DataFrame(submission)\n",
    "submission.to_csv('svc_submission.csv', index=False)"
   ]
  },
  {
   "cell_type": "markdown",
   "metadata": {},
   "source": [
    "## KNN"
   ]
  },
  {
   "cell_type": "code",
   "execution_count": 22,
   "metadata": {
    "execution": {
     "iopub.execute_input": "2021-08-01T07:58:42.312625Z",
     "iopub.status.busy": "2021-08-01T07:58:42.312227Z",
     "iopub.status.idle": "2021-08-01T07:58:44.794234Z",
     "shell.execute_reply": "2021-08-01T07:58:44.793117Z",
     "shell.execute_reply.started": "2021-08-01T07:58:42.312592Z"
    }
   },
   "outputs": [
    {
     "name": "stdout",
     "output_type": "stream",
     "text": [
      "Train Score:  1.0\n",
      "Test Score:  0.99\n",
      "KNeighborsClassifier(n_neighbors=1)\n"
     ]
    },
    {
     "data": {
      "image/png": "[encoded data removed]",
      "text/plain": [
       "<Figure size 1000x1000 with 1 Axes>"
      ]
     },
     "metadata": {},
     "output_type": "display_data"
    }
   ],
   "source": [
    "algorithm = ['auto', 'ball_tree', 'brute']\n",
    "weights = ['uniform', 'distance']\n",
    "neig = range(1, 40)\n",
    "train_accuracy = []\n",
    "test_accuracy = []\n",
    "best_score = 0.0\n",
    "best_knn = None\n",
    "\n",
    "for k in neig:\n",
    "    KNN = KNeighborsClassifier(n_neighbors = k, algorithm = 'auto', weights = 'uniform')\n",
    "    KNN.fit(X_train_gmm, y_train_gmm)\n",
    "    y_pred = KNN.predict(gmm_val)\n",
    "    train_score = KNN.score(X_train_gmm, y_train_gmm)\n",
    "    test_score = KNN.score(X_val_gmm, y_val_gmm)\n",
    "    \n",
    "    train_accuracy.append(train_score)\n",
    "    test_accuracy.append(test_score)\n",
    "    \n",
    "    ## 找出最佳的準確度\n",
    "    if test_score > best_score:\n",
    "        best_score = test_score\n",
    "        best_knn = KNN\n",
    "    \n",
    "## 視覺化: 了解設定什麼k值有最佳的準確度\n",
    "plt.figure(figsize = (10, 10))\n",
    "plt.plot(neig, train_accuracy, c = 'red', label = 'Train Accuracy')\n",
    "plt.plot(neig, test_accuracy, c = 'blue', label = 'Test Accuracy')\n",
    "plt.title('number of neighbors vs accuracy')\n",
    "plt.xlabel('n neighbors amount')\n",
    "plt.ylabel('Accuracy')\n",
    "plt.legend()\n",
    "\n",
    "print('Train Score: ', best_knn.score(X_train_gmm, y_train_gmm))\n",
    "print('Test Score: ', best_score)\n",
    "print(best_knn)   "
   ]
  },
  {
   "cell_type": "code",
   "execution_count": 23,
   "metadata": {},
   "outputs": [],
   "source": [
    "best_knn.fit(train_gmm, train_label)\n",
    "ypred = best_knn.predict(test_gmm)\n",
    "submission = {'Id': np.arange(1, ypred.shape[0]+1),\n",
    "             'Solution': ypred}\n",
    "submission = pd.DataFrame(submission)\n",
    "submission.to_csv('knn_submission.csv', index=False)"
   ]
  },
  {
   "cell_type": "markdown",
   "metadata": {},
   "source": [
    "## RandomForest"
   ]
  },
  {
   "cell_type": "code",
   "execution_count": 24,
   "metadata": {
    "execution": {
     "iopub.execute_input": "2021-08-01T07:58:56.102084Z",
     "iopub.status.busy": "2021-08-01T07:58:56.101712Z",
     "iopub.status.idle": "2021-08-01T07:59:37.289314Z",
     "shell.execute_reply": "2021-08-01T07:59:37.288141Z",
     "shell.execute_reply.started": "2021-08-01T07:58:56.102054Z"
    }
   },
   "outputs": [
    {
     "name": "stdout",
     "output_type": "stream",
     "text": [
      "Fitting 5 folds for each of 120 candidates, totalling 600 fits\n",
      "Best Accuracy: 0.993742 using {'max_depth': 1, 'min_samples_split': 5, 'n_estimators': 60}\n",
      "Train Score:  0.9937421777221527\n",
      "Test Score:  0.985\n"
     ]
    }
   ],
   "source": [
    "clf = RandomForestClassifier(random_state = 10)\n",
    "n_estimators = [20, 30, 60, 90, 120, 140]\n",
    "max_depth = [1, 7, 10, 20, 40]\n",
    "split = [5, 10, 17, 20]\n",
    "\n",
    "param = dict(n_estimators = n_estimators, max_depth = max_depth, min_samples_split = split)\n",
    "\n",
    "grid_search = GridSearchCV(estimator = clf, param_grid = param, cv = 5, n_jobs = -1, verbose = 1)\n",
    "grid_result = grid_search.fit(X_train_gmm, y_train_gmm)\n",
    "\n",
    "\n",
    "print(\"Best Accuracy: %f using %s\" % (grid_result.best_score_, grid_result.best_params_))\n",
    "\n",
    "print('Train Score: ', grid_result.score(X_train_gmm, y_train_gmm))\n",
    "print('Test Score: ', grid_result.score(X_val_gmm, y_val_gmm))"
   ]
  },
  {
   "cell_type": "code",
   "execution_count": 25,
   "metadata": {
    "execution": {
     "iopub.execute_input": "2021-08-01T08:05:38.696055Z",
     "iopub.status.busy": "2021-08-01T08:05:38.695696Z",
     "iopub.status.idle": "2021-08-01T08:06:24.092100Z",
     "shell.execute_reply": "2021-08-01T08:06:24.090911Z",
     "shell.execute_reply.started": "2021-08-01T08:05:38.696026Z"
    }
   },
   "outputs": [
    {
     "name": "stdout",
     "output_type": "stream",
     "text": [
      "Fitting 5 folds for each of 120 candidates, totalling 600 fits\n"
     ]
    }
   ],
   "source": [
    "grid_search = GridSearchCV(estimator = clf, param_grid = param, cv = 5, n_jobs = -1, verbose = 1)\n",
    "grid_result = grid_search.fit(train_gmm, train_label)\n",
    "y_pred = grid_result.predict(test_gmm)\n",
    "submission = {'Id': np.arange(1, ypred.shape[0]+1),\n",
    "             'Solution': ypred}\n",
    "submission = pd.DataFrame(submission)\n",
    "submission.to_csv('randomforest_submission.csv', index=False)"
   ]
  },
  {
   "cell_type": "code",
   "execution_count": null,
   "metadata": {},
   "outputs": [],
   "source": []
  }
 ],
 "metadata": {
  "kernelspec": {
   "display_name": "Python 3 (ipykernel)",
   "language": "python",
   "name": "python3"
  },
  "language_info": {
   "codemirror_mode": {
    "name": "ipython",
    "version": 3
   },
   "file_extension": ".py",
   "mimetype": "text/x-python",
   "name": "python",
   "nbconvert_exporter": "python",
   "pygments_lexer": "ipython3",
   "version": "3.9.7"
  }
 },
 "nbformat": 4,
 "nbformat_minor": 4
}
