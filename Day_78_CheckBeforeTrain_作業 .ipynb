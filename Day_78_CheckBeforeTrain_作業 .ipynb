{
 "cells": [
  {
   "cell_type": "markdown",
   "metadata": {
    "id": "auEAuEgT4oXE"
   },
   "source": [
    "## Work\n",
    "1. 請嘗試將 preproc_x 替換成以每筆資料的 min/max 進行標準化至 -1 ~ 1 間，再進行訓練\n",
    "2. 請嘗試將 mlp 疊更深 (e.g 5~10 層)，進行訓練後觀察 learning curve 的走勢\n",
    "3. (optional) 請改用 GPU 進行訓練 (可善用 google colab)，比較使用 CPU 與 GPU 的訓練速度"
   ]
  },
  {
   "cell_type": "code",
   "execution_count": 1,
   "metadata": {
    "id": "wujF_rVq4oXF",
    "outputId": "eb23eca8-6055-4eb3-8931-b2e7da7fa596"
   },
   "outputs": [],
   "source": [
    "import os\n",
    "import keras\n",
    "\n",
    "import warnings\n",
    "warnings.filterwarnings('ignore')\n",
    "from keras.utils import np_utils\n",
    "\n",
    "# 請嘗試設定 GPU：os.environ\n",
    "os.environ[\"CUDA_VISIBLE_DEVICES\"] = \"-1\"\n"
   ]
  },
  {
   "cell_type": "code",
   "execution_count": 2,
   "metadata": {
    "id": "mD7ScVX24oXF"
   },
   "outputs": [],
   "source": [
    "from keras.datasets import cifar10\n",
    "train, test = keras.datasets.cifar10.load_data()"
   ]
  },
  {
   "cell_type": "code",
   "execution_count": 3,
   "metadata": {
    "id": "cv2Wknx_4oXF"
   },
   "outputs": [],
   "source": [
    "## 資料前處理\n",
    "\"\"\"\n",
    "Your code here\n",
    "\"\"\"\n",
    "def preproc_x(x, flatten=True):\n",
    "    x = 2 * ((x - x.min()) / (x.max() - x.min())) - 1\n",
    "    if flatten:\n",
    "        x = x.reshape((len(x), -1))\n",
    "    return x\n",
    "\n",
    "def preproc_y(y, num_classes=10):\n",
    "    if y.shape[-1] == 1:\n",
    "        y = np_utils.to_categorical(y, num_classes)\n",
    "    return y    "
   ]
  },
  {
   "cell_type": "code",
   "execution_count": 4,
   "metadata": {
    "id": "zp2WdT4d4oXF"
   },
   "outputs": [],
   "source": [
    "x_train, y_train = train\n",
    "x_test, y_test = test\n",
    "\n",
    "# Preproc the inputs\n",
    "x_train = preproc_x(x_train)\n",
    "x_test = preproc_x(x_test)\n",
    "\n",
    "# Preprc the outputs\n",
    "y_train = preproc_y(y_train)\n",
    "y_test = preproc_y(y_test)"
   ]
  },
  {
   "cell_type": "code",
   "execution_count": 5,
   "metadata": {
    "id": "KBj2NiDK4oXF"
   },
   "outputs": [
    {
     "name": "stdout",
     "output_type": "stream",
     "text": [
      "Model: \"model\"\n",
      "_________________________________________________________________\n",
      " Layer (type)                Output Shape              Param #   \n",
      "=================================================================\n",
      " input_1 (InputLayer)        [(None, 3072)]            0         \n",
      "                                                                 \n",
      " hidden_layer1 (Dense)       (None, 512)               1573376   \n",
      "                                                                 \n",
      " hidden_layer2 (Dense)       (None, 256)               131328    \n",
      "                                                                 \n",
      " hidden_layer3 (Dense)       (None, 128)               32896     \n",
      "                                                                 \n",
      " hidden_layer4 (Dense)       (None, 64)                8256      \n",
      "                                                                 \n",
      " hidden_layer5 (Dense)       (None, 32)                2080      \n",
      "                                                                 \n",
      " output (Dense)              (None, 10)                330       \n",
      "                                                                 \n",
      "=================================================================\n",
      "Total params: 1,748,266\n",
      "Trainable params: 1,748,266\n",
      "Non-trainable params: 0\n",
      "_________________________________________________________________\n"
     ]
    }
   ],
   "source": [
    "\"\"\"Code Here\n",
    "建立你的神經網路\n",
    "\"\"\"\n",
    "def build_mlp(input_shape, output_units=10, num_neurons=[512, 256, 128, 64, 32]):\n",
    "    input_layer = keras.layers.Input(input_shape)\n",
    "    \n",
    "    for i, n_units in enumerate(num_neurons):\n",
    "        if i == 0:\n",
    "            x = keras.layers.Dense(units=n_units, activation=\"relu\", name=\"hidden_layer\"+str(i+1))(input_layer)\n",
    "        else:\n",
    "            x = keras.layers.Dense(units=n_units, activation=\"relu\", name=\"hidden_layer\"+str(i+1))(x)\n",
    "    \n",
    "    out = keras.layers.Dense(units=output_units, activation=\"softmax\", name=\"output\")(x)\n",
    "    \n",
    "    model = keras.models.Model(inputs=[input_layer], outputs=[out])\n",
    "    return model\n",
    "\n",
    "model = build_mlp(input_shape=x_train.shape[1:])\n",
    "model.summary()"
   ]
  },
  {
   "cell_type": "code",
   "execution_count": 6,
   "metadata": {
    "id": "uejU37q-4oXF"
   },
   "outputs": [],
   "source": [
    "## 超參數設定\n",
    "LEARNING_RATE = 0.001\n",
    "EPOCHS = 100\n",
    "BATCH_SIZE = 256"
   ]
  },
  {
   "cell_type": "code",
   "execution_count": 7,
   "metadata": {
    "id": "FePHihT34oXG"
   },
   "outputs": [],
   "source": [
    "from tensorflow.keras import optimizers\n",
    "\n",
    "optimizer = optimizers.Adam(lr=LEARNING_RATE)\n",
    "model.compile(loss=\"categorical_crossentropy\", metrics=[\"accuracy\"], optimizer=optimizer)"
   ]
  },
  {
   "cell_type": "code",
   "execution_count": 8,
   "metadata": {
    "id": "LmLgZXCQ4oXG",
    "outputId": "cb609889-f8fe-47e8-b64c-27db5202b5e5"
   },
   "outputs": [
    {
     "name": "stdout",
     "output_type": "stream",
     "text": [
      "Epoch 1/100\n",
      "196/196 [==============================] - 4s 19ms/step - loss: 1.7310 - accuracy: 0.3860 - val_loss: 1.6015 - val_accuracy: 0.4333\n",
      "Epoch 2/100\n",
      "196/196 [==============================] - 3s 18ms/step - loss: 1.4961 - accuracy: 0.4707 - val_loss: 1.4901 - val_accuracy: 0.4728\n",
      "Epoch 3/100\n",
      "196/196 [==============================] - 3s 17ms/step - loss: 1.3796 - accuracy: 0.5139 - val_loss: 1.4241 - val_accuracy: 0.4981\n",
      "Epoch 4/100\n",
      "196/196 [==============================] - 3s 16ms/step - loss: 1.2804 - accuracy: 0.5511 - val_loss: 1.3837 - val_accuracy: 0.5173\n",
      "Epoch 5/100\n",
      "196/196 [==============================] - 3s 16ms/step - loss: 1.1947 - accuracy: 0.5794 - val_loss: 1.3880 - val_accuracy: 0.5129\n",
      "Epoch 6/100\n",
      "196/196 [==============================] - 3s 16ms/step - loss: 1.1209 - accuracy: 0.6038 - val_loss: 1.3607 - val_accuracy: 0.5320\n",
      "Epoch 7/100\n",
      "196/196 [==============================] - 3s 16ms/step - loss: 1.0462 - accuracy: 0.6326 - val_loss: 1.3688 - val_accuracy: 0.5363\n",
      "Epoch 8/100\n",
      "196/196 [==============================] - 3s 16ms/step - loss: 0.9706 - accuracy: 0.6579 - val_loss: 1.4003 - val_accuracy: 0.5361\n",
      "Epoch 9/100\n",
      "196/196 [==============================] - 3s 16ms/step - loss: 0.9033 - accuracy: 0.6819 - val_loss: 1.4334 - val_accuracy: 0.5288\n",
      "Epoch 10/100\n",
      "196/196 [==============================] - 3s 16ms/step - loss: 0.8331 - accuracy: 0.7059 - val_loss: 1.4597 - val_accuracy: 0.5319\n",
      "Epoch 11/100\n",
      "196/196 [==============================] - 3s 16ms/step - loss: 0.7675 - accuracy: 0.7276 - val_loss: 1.4951 - val_accuracy: 0.5315\n",
      "Epoch 12/100\n",
      "196/196 [==============================] - 3s 17ms/step - loss: 0.7059 - accuracy: 0.7525 - val_loss: 1.5688 - val_accuracy: 0.5342\n",
      "Epoch 13/100\n",
      "196/196 [==============================] - 3s 18ms/step - loss: 0.6420 - accuracy: 0.7743 - val_loss: 1.6335 - val_accuracy: 0.5265\n",
      "Epoch 14/100\n",
      "196/196 [==============================] - 3s 17ms/step - loss: 0.5913 - accuracy: 0.7925 - val_loss: 1.7054 - val_accuracy: 0.5346\n",
      "Epoch 15/100\n",
      "196/196 [==============================] - 3s 17ms/step - loss: 0.5419 - accuracy: 0.8074 - val_loss: 1.7868 - val_accuracy: 0.5279\n",
      "Epoch 16/100\n",
      "196/196 [==============================] - 3s 16ms/step - loss: 0.4943 - accuracy: 0.8271 - val_loss: 1.8468 - val_accuracy: 0.5344\n",
      "Epoch 17/100\n",
      "196/196 [==============================] - 3s 17ms/step - loss: 0.4574 - accuracy: 0.8403 - val_loss: 1.9594 - val_accuracy: 0.5300\n",
      "Epoch 18/100\n",
      "196/196 [==============================] - 3s 17ms/step - loss: 0.4082 - accuracy: 0.8559 - val_loss: 2.0229 - val_accuracy: 0.5351\n",
      "Epoch 19/100\n",
      "196/196 [==============================] - 3s 17ms/step - loss: 0.3791 - accuracy: 0.8670 - val_loss: 2.1350 - val_accuracy: 0.5262\n",
      "Epoch 20/100\n",
      "196/196 [==============================] - 3s 17ms/step - loss: 0.3444 - accuracy: 0.8787 - val_loss: 2.2299 - val_accuracy: 0.5269\n",
      "Epoch 21/100\n",
      "196/196 [==============================] - 3s 17ms/step - loss: 0.3299 - accuracy: 0.8857 - val_loss: 2.2666 - val_accuracy: 0.5327\n",
      "Epoch 22/100\n",
      "196/196 [==============================] - 3s 17ms/step - loss: 0.2984 - accuracy: 0.8967 - val_loss: 2.4492 - val_accuracy: 0.5254\n",
      "Epoch 23/100\n",
      "196/196 [==============================] - 3s 17ms/step - loss: 0.2744 - accuracy: 0.9038 - val_loss: 2.4937 - val_accuracy: 0.5249\n",
      "Epoch 24/100\n",
      "196/196 [==============================] - 3s 17ms/step - loss: 0.2766 - accuracy: 0.9052 - val_loss: 2.4944 - val_accuracy: 0.5321\n",
      "Epoch 25/100\n",
      "196/196 [==============================] - 3s 17ms/step - loss: 0.2416 - accuracy: 0.9166 - val_loss: 2.6018 - val_accuracy: 0.5314\n",
      "Epoch 26/100\n",
      "196/196 [==============================] - 3s 17ms/step - loss: 0.2328 - accuracy: 0.9197 - val_loss: 2.6688 - val_accuracy: 0.5287\n",
      "Epoch 27/100\n",
      "196/196 [==============================] - 3s 18ms/step - loss: 0.2207 - accuracy: 0.9232 - val_loss: 2.8560 - val_accuracy: 0.5333\n",
      "Epoch 28/100\n",
      "196/196 [==============================] - 3s 17ms/step - loss: 0.2195 - accuracy: 0.9248 - val_loss: 2.8236 - val_accuracy: 0.5269\n",
      "Epoch 29/100\n",
      "196/196 [==============================] - 3s 17ms/step - loss: 0.2090 - accuracy: 0.9283 - val_loss: 2.8575 - val_accuracy: 0.5258\n",
      "Epoch 30/100\n",
      "196/196 [==============================] - 3s 18ms/step - loss: 0.2081 - accuracy: 0.9285 - val_loss: 3.0214 - val_accuracy: 0.5314\n",
      "Epoch 31/100\n",
      "196/196 [==============================] - 4s 18ms/step - loss: 0.1902 - accuracy: 0.9341 - val_loss: 3.0615 - val_accuracy: 0.5264\n",
      "Epoch 32/100\n",
      "196/196 [==============================] - 3s 17ms/step - loss: 0.1929 - accuracy: 0.9321 - val_loss: 3.0313 - val_accuracy: 0.5417\n",
      "Epoch 33/100\n",
      "196/196 [==============================] - 3s 17ms/step - loss: 0.1642 - accuracy: 0.9442 - val_loss: 3.1567 - val_accuracy: 0.5244\n",
      "Epoch 34/100\n",
      "196/196 [==============================] - 3s 17ms/step - loss: 0.1592 - accuracy: 0.9458 - val_loss: 3.1867 - val_accuracy: 0.5302\n",
      "Epoch 35/100\n",
      "196/196 [==============================] - 3s 17ms/step - loss: 0.1767 - accuracy: 0.9402 - val_loss: 3.2204 - val_accuracy: 0.5180\n",
      "Epoch 36/100\n",
      "196/196 [==============================] - 3s 17ms/step - loss: 0.1765 - accuracy: 0.9405 - val_loss: 3.2545 - val_accuracy: 0.5295\n",
      "Epoch 37/100\n",
      "196/196 [==============================] - 3s 17ms/step - loss: 0.1579 - accuracy: 0.9462 - val_loss: 3.3873 - val_accuracy: 0.5236\n",
      "Epoch 38/100\n",
      "196/196 [==============================] - 3s 17ms/step - loss: 0.1644 - accuracy: 0.9442 - val_loss: 3.3540 - val_accuracy: 0.5265\n",
      "Epoch 39/100\n",
      "196/196 [==============================] - 3s 17ms/step - loss: 0.1275 - accuracy: 0.9571 - val_loss: 3.5162 - val_accuracy: 0.5340\n",
      "Epoch 40/100\n",
      "196/196 [==============================] - 4s 18ms/step - loss: 0.1367 - accuracy: 0.9539 - val_loss: 3.6716 - val_accuracy: 0.5271\n",
      "Epoch 41/100\n",
      "196/196 [==============================] - 4s 18ms/step - loss: 0.1479 - accuracy: 0.9491 - val_loss: 3.5464 - val_accuracy: 0.5213\n",
      "Epoch 42/100\n",
      "196/196 [==============================] - 3s 17ms/step - loss: 0.1495 - accuracy: 0.9497 - val_loss: 3.5335 - val_accuracy: 0.5294\n",
      "Epoch 43/100\n",
      "196/196 [==============================] - 3s 17ms/step - loss: 0.1381 - accuracy: 0.9532 - val_loss: 3.6799 - val_accuracy: 0.5243\n",
      "Epoch 44/100\n",
      "196/196 [==============================] - 3s 17ms/step - loss: 0.1374 - accuracy: 0.9544 - val_loss: 3.6033 - val_accuracy: 0.5254\n",
      "Epoch 45/100\n",
      "196/196 [==============================] - 3s 17ms/step - loss: 0.1308 - accuracy: 0.9565 - val_loss: 3.6556 - val_accuracy: 0.5222\n",
      "Epoch 46/100\n",
      "196/196 [==============================] - 3s 17ms/step - loss: 0.1210 - accuracy: 0.9603 - val_loss: 3.7005 - val_accuracy: 0.5327\n",
      "Epoch 47/100\n",
      "196/196 [==============================] - 3s 17ms/step - loss: 0.1109 - accuracy: 0.9631 - val_loss: 3.7882 - val_accuracy: 0.5190\n",
      "Epoch 48/100\n",
      "196/196 [==============================] - 3s 17ms/step - loss: 0.1344 - accuracy: 0.9551 - val_loss: 3.6775 - val_accuracy: 0.5263\n",
      "Epoch 49/100\n",
      "196/196 [==============================] - 4s 18ms/step - loss: 0.1058 - accuracy: 0.9655 - val_loss: 3.9033 - val_accuracy: 0.5237\n",
      "Epoch 50/100\n",
      "196/196 [==============================] - 3s 17ms/step - loss: 0.1142 - accuracy: 0.9621 - val_loss: 3.9099 - val_accuracy: 0.5196\n",
      "Epoch 51/100\n",
      "196/196 [==============================] - 3s 17ms/step - loss: 0.1103 - accuracy: 0.9623 - val_loss: 3.9554 - val_accuracy: 0.5267\n",
      "Epoch 52/100\n",
      "196/196 [==============================] - 3s 17ms/step - loss: 0.1235 - accuracy: 0.9596 - val_loss: 3.9444 - val_accuracy: 0.5169\n",
      "Epoch 53/100\n",
      "196/196 [==============================] - 3s 17ms/step - loss: 0.1217 - accuracy: 0.9601 - val_loss: 3.9910 - val_accuracy: 0.5161\n",
      "Epoch 54/100\n",
      "196/196 [==============================] - 3s 17ms/step - loss: 0.1175 - accuracy: 0.9610 - val_loss: 3.9152 - val_accuracy: 0.5249\n",
      "Epoch 55/100\n",
      "196/196 [==============================] - 3s 17ms/step - loss: 0.0970 - accuracy: 0.9670 - val_loss: 3.9444 - val_accuracy: 0.5254\n",
      "Epoch 56/100\n",
      "196/196 [==============================] - 4s 19ms/step - loss: 0.1215 - accuracy: 0.9594 - val_loss: 3.9188 - val_accuracy: 0.5301\n",
      "Epoch 57/100\n"
     ]
    },
    {
     "name": "stdout",
     "output_type": "stream",
     "text": [
      "196/196 [==============================] - 3s 17ms/step - loss: 0.0975 - accuracy: 0.9670 - val_loss: 4.0026 - val_accuracy: 0.5313\n",
      "Epoch 58/100\n",
      "196/196 [==============================] - 3s 17ms/step - loss: 0.0905 - accuracy: 0.9705 - val_loss: 4.1617 - val_accuracy: 0.5346\n",
      "Epoch 59/100\n",
      "196/196 [==============================] - 3s 17ms/step - loss: 0.0935 - accuracy: 0.9683 - val_loss: 4.1149 - val_accuracy: 0.5229\n",
      "Epoch 60/100\n",
      "196/196 [==============================] - 3s 17ms/step - loss: 0.1057 - accuracy: 0.9664 - val_loss: 3.8824 - val_accuracy: 0.5296\n",
      "Epoch 61/100\n",
      "196/196 [==============================] - 3s 17ms/step - loss: 0.1137 - accuracy: 0.9624 - val_loss: 4.0280 - val_accuracy: 0.5292\n",
      "Epoch 62/100\n",
      "196/196 [==============================] - 3s 16ms/step - loss: 0.1055 - accuracy: 0.9645 - val_loss: 4.1074 - val_accuracy: 0.5233\n",
      "Epoch 63/100\n",
      "196/196 [==============================] - 3s 17ms/step - loss: 0.0844 - accuracy: 0.9728 - val_loss: 4.1717 - val_accuracy: 0.5303\n",
      "Epoch 64/100\n",
      "196/196 [==============================] - 3s 17ms/step - loss: 0.0805 - accuracy: 0.9731 - val_loss: 4.2320 - val_accuracy: 0.5306\n",
      "Epoch 65/100\n",
      "196/196 [==============================] - 3s 18ms/step - loss: 0.0961 - accuracy: 0.9684 - val_loss: 4.1411 - val_accuracy: 0.5267\n",
      "Epoch 66/100\n",
      "196/196 [==============================] - 3s 18ms/step - loss: 0.0871 - accuracy: 0.9710 - val_loss: 4.0991 - val_accuracy: 0.5285\n",
      "Epoch 67/100\n",
      "196/196 [==============================] - 4s 18ms/step - loss: 0.0914 - accuracy: 0.9701 - val_loss: 4.1314 - val_accuracy: 0.5271\n",
      "Epoch 68/100\n",
      "196/196 [==============================] - 3s 17ms/step - loss: 0.0759 - accuracy: 0.9744 - val_loss: 4.2210 - val_accuracy: 0.5355\n",
      "Epoch 69/100\n",
      "196/196 [==============================] - 3s 16ms/step - loss: 0.1112 - accuracy: 0.9638 - val_loss: 4.0264 - val_accuracy: 0.5241\n",
      "Epoch 70/100\n",
      "196/196 [==============================] - 3s 16ms/step - loss: 0.1095 - accuracy: 0.9651 - val_loss: 3.9918 - val_accuracy: 0.5313\n",
      "Epoch 71/100\n",
      "196/196 [==============================] - 3s 16ms/step - loss: 0.0826 - accuracy: 0.9722 - val_loss: 4.1018 - val_accuracy: 0.5291\n",
      "Epoch 72/100\n",
      "196/196 [==============================] - 3s 17ms/step - loss: 0.0730 - accuracy: 0.9767 - val_loss: 4.2237 - val_accuracy: 0.5292\n",
      "Epoch 73/100\n",
      "196/196 [==============================] - 3s 16ms/step - loss: 0.0724 - accuracy: 0.9766 - val_loss: 4.2403 - val_accuracy: 0.5288\n",
      "Epoch 74/100\n",
      "196/196 [==============================] - 3s 16ms/step - loss: 0.0871 - accuracy: 0.9719 - val_loss: 4.2394 - val_accuracy: 0.5284\n",
      "Epoch 75/100\n",
      "196/196 [==============================] - 3s 17ms/step - loss: 0.0860 - accuracy: 0.9714 - val_loss: 4.3174 - val_accuracy: 0.5304\n",
      "Epoch 76/100\n",
      "196/196 [==============================] - 3s 17ms/step - loss: 0.0742 - accuracy: 0.9769 - val_loss: 4.2032 - val_accuracy: 0.5318\n",
      "Epoch 77/100\n",
      "196/196 [==============================] - 3s 17ms/step - loss: 0.0653 - accuracy: 0.9785 - val_loss: 4.2950 - val_accuracy: 0.5297\n",
      "Epoch 78/100\n",
      "196/196 [==============================] - 3s 16ms/step - loss: 0.0940 - accuracy: 0.9690 - val_loss: 4.1199 - val_accuracy: 0.5311\n",
      "Epoch 79/100\n",
      "196/196 [==============================] - 3s 16ms/step - loss: 0.0872 - accuracy: 0.9722 - val_loss: 4.1624 - val_accuracy: 0.5314\n",
      "Epoch 80/100\n",
      "196/196 [==============================] - 3s 17ms/step - loss: 0.0685 - accuracy: 0.9784 - val_loss: 4.3462 - val_accuracy: 0.5361\n",
      "Epoch 81/100\n",
      "196/196 [==============================] - 3s 17ms/step - loss: 0.0668 - accuracy: 0.9780 - val_loss: 4.5802 - val_accuracy: 0.5254\n",
      "Epoch 82/100\n",
      "196/196 [==============================] - 3s 17ms/step - loss: 0.0848 - accuracy: 0.9731 - val_loss: 4.2326 - val_accuracy: 0.5316\n",
      "Epoch 83/100\n",
      "196/196 [==============================] - 3s 17ms/step - loss: 0.0765 - accuracy: 0.9754 - val_loss: 4.3320 - val_accuracy: 0.5368\n",
      "Epoch 84/100\n",
      "196/196 [==============================] - 3s 17ms/step - loss: 0.0600 - accuracy: 0.9805 - val_loss: 4.6197 - val_accuracy: 0.5281\n",
      "Epoch 85/100\n",
      "196/196 [==============================] - 3s 18ms/step - loss: 0.0800 - accuracy: 0.9741 - val_loss: 4.4908 - val_accuracy: 0.5290\n",
      "Epoch 86/100\n",
      "196/196 [==============================] - 3s 17ms/step - loss: 0.0965 - accuracy: 0.9696 - val_loss: 4.3497 - val_accuracy: 0.5244\n",
      "Epoch 87/100\n",
      "196/196 [==============================] - 3s 17ms/step - loss: 0.0866 - accuracy: 0.9723 - val_loss: 4.2554 - val_accuracy: 0.5304\n",
      "Epoch 88/100\n",
      "196/196 [==============================] - 3s 16ms/step - loss: 0.0538 - accuracy: 0.9821 - val_loss: 4.5758 - val_accuracy: 0.5348\n",
      "Epoch 89/100\n",
      "196/196 [==============================] - 3s 17ms/step - loss: 0.0654 - accuracy: 0.9791 - val_loss: 4.4649 - val_accuracy: 0.5318\n",
      "Epoch 90/100\n",
      "196/196 [==============================] - 3s 16ms/step - loss: 0.0779 - accuracy: 0.9749 - val_loss: 4.4404 - val_accuracy: 0.5342\n",
      "Epoch 91/100\n",
      "196/196 [==============================] - 3s 17ms/step - loss: 0.0639 - accuracy: 0.9800 - val_loss: 4.3872 - val_accuracy: 0.5281\n",
      "Epoch 92/100\n",
      "196/196 [==============================] - 3s 17ms/step - loss: 0.0552 - accuracy: 0.9820 - val_loss: 4.6535 - val_accuracy: 0.5228\n",
      "Epoch 93/100\n",
      "196/196 [==============================] - 3s 17ms/step - loss: 0.0877 - accuracy: 0.9726 - val_loss: 4.2701 - val_accuracy: 0.5282\n",
      "Epoch 94/100\n",
      "196/196 [==============================] - 3s 17ms/step - loss: 0.0796 - accuracy: 0.9751 - val_loss: 4.4217 - val_accuracy: 0.5353\n",
      "Epoch 95/100\n",
      "196/196 [==============================] - 3s 17ms/step - loss: 0.0459 - accuracy: 0.9849 - val_loss: 4.7003 - val_accuracy: 0.5324\n",
      "Epoch 96/100\n",
      "196/196 [==============================] - 3s 16ms/step - loss: 0.0561 - accuracy: 0.9823 - val_loss: 4.4923 - val_accuracy: 0.5279\n",
      "Epoch 97/100\n",
      "196/196 [==============================] - 3s 16ms/step - loss: 0.0758 - accuracy: 0.9760 - val_loss: 4.5253 - val_accuracy: 0.5308\n",
      "Epoch 98/100\n",
      "196/196 [==============================] - 3s 17ms/step - loss: 0.0766 - accuracy: 0.9754 - val_loss: 4.4109 - val_accuracy: 0.5291\n",
      "Epoch 99/100\n",
      "196/196 [==============================] - 3s 17ms/step - loss: 0.0430 - accuracy: 0.9857 - val_loss: 4.7180 - val_accuracy: 0.5251\n",
      "Epoch 100/100\n",
      "196/196 [==============================] - 3s 17ms/step - loss: 0.0666 - accuracy: 0.9784 - val_loss: 4.7224 - val_accuracy: 0.5263\n"
     ]
    },
    {
     "data": {
      "text/plain": [
       "<keras.callbacks.History at 0x1cdfddc8ee0>"
      ]
     },
     "execution_count": 8,
     "metadata": {},
     "output_type": "execute_result"
    }
   ],
   "source": [
    "model.fit(x_train, y_train, \n",
    "          epochs=EPOCHS, \n",
    "          batch_size=BATCH_SIZE, \n",
    "          validation_data=(x_test, y_test), \n",
    "          shuffle=True)"
   ]
  },
  {
   "cell_type": "code",
   "execution_count": 10,
   "metadata": {
    "id": "jThDeFlL4oXG",
    "outputId": "c8f6a381-da51-4682-8b02-fd9a0733007c"
   },
   "outputs": [
    {
     "data": {
      "image/png": "[encoded data removed]",
      "text/plain": [
       "<Figure size 640x480 with 1 Axes>"
      ]
     },
     "metadata": {},
     "output_type": "display_data"
    },
    {
     "data": {
      "image/png": "[encoded data removed]",
      "text/plain": [
       "<Figure size 640x480 with 1 Axes>"
      ]
     },
     "metadata": {},
     "output_type": "display_data"
    }
   ],
   "source": [
    "import matplotlib.pyplot as plt\n",
    "\n",
    "\n",
    "train_loss = model.history.history[\"loss\"]\n",
    "valid_loss = model.history.history[\"val_loss\"]\n",
    "\n",
    "train_acc = model.history.history[\"accuracy\"]\n",
    "valid_acc = model.history.history[\"val_accuracy\"]\n",
    "\n",
    "plt.plot(range(len(train_loss)), train_loss, label=\"train loss\")\n",
    "plt.plot(range(len(valid_loss)), valid_loss, label=\"valid loss\")\n",
    "plt.legend()\n",
    "plt.title(\"Loss\")\n",
    "plt.show()\n",
    "\n",
    "plt.plot(range(len(train_acc)), train_acc, label=\"train accuracy\")\n",
    "plt.plot(range(len(valid_acc)), valid_acc, label=\"valid accuracy\")\n",
    "plt.legend()\n",
    "plt.title(\"Accuracy\")\n",
    "plt.show()"
   ]
  },
  {
   "cell_type": "code",
   "execution_count": null,
   "metadata": {},
   "outputs": [],
   "source": []
  }
 ],
 "metadata": {
  "colab": {
   "name": "Day078_CheckBeforeTrain_作業 (更新).ipynb",
   "provenance": []
  },
  "kernelspec": {
   "display_name": "Python 3 (ipykernel)",
   "language": "python",
   "name": "python3"
  },
  "language_info": {
   "codemirror_mode": {
    "name": "ipython",
    "version": 3
   },
   "file_extension": ".py",
   "mimetype": "text/x-python",
   "name": "python",
   "nbconvert_exporter": "python",
   "pygments_lexer": "ipython3",
   "version": "3.9.7"
  }
 },
 "nbformat": 4,
 "nbformat_minor": 1
}
